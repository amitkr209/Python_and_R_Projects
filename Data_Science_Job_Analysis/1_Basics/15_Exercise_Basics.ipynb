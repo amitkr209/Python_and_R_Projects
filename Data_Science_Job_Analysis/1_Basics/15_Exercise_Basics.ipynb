{
 "cells": [
  {
   "cell_type": "code",
   "execution_count": 1,
   "metadata": {},
   "outputs": [],
   "source": [
    "job_roles = [\n",
    "    {'role': 'Data Analyst', 'skills': ['Python', 'SQL', 'Excel']},\n",
    "    {'role': 'Data Scientist', 'skills': ['Python', 'R', 'Machine Learning', 'Deep Learning']},\n",
    "    {'role': 'Machine Learning Engineer', 'skills': ['Python', 'TensorFlow', 'PyTorch', 'Scikit-Learn']},\n",
    "    {'role': 'Data Engineer', 'skills': ['Python', 'Apache Spark', 'Hadoop', 'SQL']},\n",
    "    {'role': 'Business Intelligence Analyst', 'skills': ['Python', 'SQL', 'Tableau', 'Power BI', 'Excel']},\n",
    "    {'role': 'Quantitative Analyst', 'skills': ['R', 'Python', 'MATLAB', 'Statistics']},\n",
    "    {'role': 'Operations Analyst', 'skills': ['Python', 'SQL', 'Data Visualization', 'Process Improvement']},\n",
    "    {'role': 'Database Administrator', 'skills': ['SQL', 'Oracle', 'MySQL', 'Database Management']},\n",
    "    {'role': 'AI Engineer', 'skills': ['Python', 'TensorFlow', 'PyTorch', 'Computer Vision']},\n",
    "    {'role': 'Statistician', 'skills': ['R', 'SAS', 'Python', 'Statistical Modeling']}\n",
    "]\n",
    "# My skills\n",
    "my_skills = ['Python', 'SQL', 'Excel']"
   ]
  },
  {
   "cell_type": "code",
   "execution_count": 11,
   "metadata": {},
   "outputs": [
    {
     "data": {
      "text/plain": [
       "['Data Analyst', 'Business Intelligence Analyst']"
      ]
     },
     "execution_count": 11,
     "metadata": {},
     "output_type": "execute_result"
    }
   ],
   "source": [
    "qualified_roles = []\n",
    "\n",
    "for job in job_roles:\n",
    "    qualified = True\n",
    "\n",
    "    for skill in my_skills:\n",
    "        if skill not in job['skills']:\n",
    "            qualified = False\n",
    "            break\n",
    "    if qualified:\n",
    "        qualified_roles.append(job['role'])\n",
    "\n",
    "qualified_roles"
   ]
  },
  {
   "cell_type": "code",
   "execution_count": 31,
   "metadata": {},
   "outputs": [
    {
     "data": {
      "text/plain": [
       "['Data Analyst', 'Business Intelligence Analyst']"
      ]
     },
     "execution_count": 31,
     "metadata": {},
     "output_type": "execute_result"
    }
   ],
   "source": [
    "qualified_role = []\n",
    "\n",
    "for job in job_roles:\n",
    "    qualified = True\n",
    "\n",
    "    for skill in  my_skills:\n",
    "        if skill not in job['skills']:\n",
    "            qualified = False\n",
    "            break\n",
    "    if qualified:\n",
    "            qualified_role.append(job['role'])\n",
    "\n",
    "qualified_role"
   ]
  },
  {
   "cell_type": "markdown",
   "metadata": {},
   "source": [
    "# AI Generated Questions"
   ]
  },
  {
   "cell_type": "code",
   "execution_count": 47,
   "metadata": {},
   "outputs": [],
   "source": [
    "job_roles = [\n",
    "    {'role': 'Web Developer', 'skills': ['JavaScript', 'HTML', 'CSS']},\n",
    "    {'role': 'Frontend Developer', 'skills': ['JavaScript', 'React', 'CSS']},\n",
    "    {'role': 'Backend Developer', 'skills': ['Python', 'Django', 'SQL']},\n",
    "    {'role': 'Full Stack Developer', 'skills': ['JavaScript', 'Python', 'SQL', 'React']},\n",
    "    {'role': 'UX Designer', 'skills': ['Design Thinking', 'Wireframing', 'Prototyping']},\n",
    "    {'role': 'Data Analyst', 'skills': ['Python', 'SQL', 'Excel']}\n",
    "]"
   ]
  },
  {
   "cell_type": "code",
   "execution_count": 48,
   "metadata": {},
   "outputs": [],
   "source": [
    "my_skills = ['Python', 'SQL', 'Excel']"
   ]
  },
  {
   "cell_type": "code",
   "execution_count": 62,
   "metadata": {},
   "outputs": [
    {
     "name": "stdout",
     "output_type": "stream",
     "text": [
      "['Data Analyst']\n"
     ]
    }
   ],
   "source": [
    "qualified_role = []\n",
    "\n",
    "for role in job_roles:\n",
    "    qualified = True\n",
    "\n",
    "    for skill in my_skills:\n",
    "        if skill not in role['skills']:\n",
    "            qualified = False\n",
    "            break\n",
    "\n",
    "    if qualified:\n",
    "        qualified_role.append(role['role'])\n",
    "\n",
    "print(qualified_role)"
   ]
  },
  {
   "cell_type": "code",
   "execution_count": 72,
   "metadata": {},
   "outputs": [],
   "source": [
    "# Define courses and required prerequisites\n",
    "courses = [\n",
    "    {'course_name': 'Data Structures', 'prerequisites': ['Introduction to Programming']},\n",
    "    {'course_name': 'Machine Learning', 'prerequisites': ['Statistics', 'Linear Algebra']},\n",
    "    {'course_name': 'Operating Systems', 'prerequisites': ['Computer Architecture']},\n",
    "    {'course_name': 'Database Systems', 'prerequisites': ['Introduction to Databases']},\n",
    "    {'course_name': 'Artificial Intelligence', 'prerequisites': ['Data Structures', 'Algorithms']},\n",
    "    {'course_name': 'Computer Networks', 'prerequisites': ['Introduction to Networking']},\n",
    "    {'course_name': 'Software Engineering', 'prerequisites': ['Introduction to Programming', 'Computer Architecture']},\n",
    "]\n",
    "\n",
    "# Courses the student has completed\n",
    "completed_courses = ['Introduction to Programming', 'Computer Architecture']"
   ]
  },
  {
   "cell_type": "markdown",
   "metadata": {},
   "source": [
    "# All-IN"
   ]
  },
  {
   "cell_type": "code",
   "execution_count": 75,
   "metadata": {},
   "outputs": [
    {
     "data": {
      "text/plain": [
       "['Software Engineering']"
      ]
     },
     "execution_count": 75,
     "metadata": {},
     "output_type": "execute_result"
    }
   ],
   "source": [
    "eligible_courses = []\n",
    "\n",
    "for course in courses:\n",
    "    course_in = True\n",
    "\n",
    "    for completed_course in completed_courses:\n",
    "        if completed_course not in course['prerequisites']:\n",
    "            course_in = False\n",
    "            break\n",
    "    if course_in:\n",
    "        eligible_courses.append(course['course_name'])\n",
    "\n",
    "eligible_courses"
   ]
  },
  {
   "cell_type": "markdown",
   "metadata": {},
   "source": [
    "# Any-One IN"
   ]
  },
  {
   "cell_type": "code",
   "execution_count": 78,
   "metadata": {},
   "outputs": [
    {
     "data": {
      "text/plain": [
       "['Data Structures', 'Operating Systems', 'Software Engineering']"
      ]
     },
     "execution_count": 78,
     "metadata": {},
     "output_type": "execute_result"
    }
   ],
   "source": [
    "eligible_course = []\n",
    "\n",
    "for course in courses:\n",
    "    if all(prereq in completed_courses for prereq in course['prerequisites']):\n",
    "        eligible_course.append(course['course_name'])\n",
    "\n",
    "eligible_course"
   ]
  },
  {
   "cell_type": "code",
   "execution_count": 83,
   "metadata": {},
   "outputs": [],
   "source": [
    "\n",
    "# Here are the codes for the practice questions:\n",
    "\n",
    "# 1. Additional Skills Check\n",
    "# This modification checks for an additional set of skills and includes a job only if it contains at least one of the additional skills, along with all the skills in my_skills.\n",
    "\n",
    "# python\n",
    "# Copy code\n",
    "job_roles = [\n",
    "    {'role': 'Data Analyst', 'skills': ['Python', 'SQL', 'Excel']},\n",
    "    {'role': 'Data Scientist', 'skills': ['Python', 'R', 'Machine Learning', 'Deep Learning']},\n",
    "    {'role': 'Machine Learning Engineer', 'skills': ['Python', 'TensorFlow', 'PyTorch', 'Scikit-Learn']},\n",
    "    {'role': 'Data Engineer', 'skills': ['Python', 'Apache Spark', 'Hadoop', 'SQL']},\n",
    "    {'role': 'Business Intelligence Analyst', 'skills': ['Python', 'SQL', 'Tableau', 'Power BI', 'Excel']},\n",
    "    {'role': 'Quantitative Analyst', 'skills': ['R', 'Python', 'MATLAB', 'Statistics']},\n",
    "    {'role': 'Operations Analyst', 'skills': ['Python', 'SQL', 'Data Visualization', 'Process Improvement']},\n",
    "    {'role': 'Database Administrator', 'skills': ['SQL', 'Oracle', 'MySQL', 'Database Management']},\n",
    "    {'role': 'AI Engineer', 'skills': ['Python', 'TensorFlow', 'PyTorch', 'Computer Vision']},\n",
    "    {'role': 'Statistician', 'skills': ['R', 'SAS', 'Python', 'Statistical Modeling']}\n",
    "]\n",
    "\n",
    "# My skills\n",
    "my_skills = ['Python', 'SQL', 'Excel']\n",
    "# Additional skills\n",
    "additional_skills = ['Tableau']\n",
    "\n",
    "# List to store qualified roles\n",
    "qualified_roles = []"
   ]
  },
  {
   "cell_type": "code",
   "execution_count": 87,
   "metadata": {},
   "outputs": [
    {
     "data": {
      "text/plain": [
       "['Business Intelligence Analyst']"
      ]
     },
     "execution_count": 87,
     "metadata": {},
     "output_type": "execute_result"
    }
   ],
   "source": [
    "for job in job_roles:\n",
    "    qualified = all(skill in my_skills for skill in job['skills'])\n",
    "    has_additional_skills = any(skill in additional_skills for akill in job['skills'])\n",
    "\n",
    "if qualified and has_additional_skills:\n",
    "    qualified_roles.append(job['role'])\n",
    "\n",
    "qualified_roles"
   ]
  },
  {
   "cell_type": "code",
   "execution_count": 1,
   "metadata": {},
   "outputs": [],
   "source": [
    "job_roles = [\n",
    "    {'role': 'Data Analyst', 'skills': ['Python', 'SQL', 'Excel']},\n",
    "    {'role': 'Data Scientist', 'skills': ['Python', 'R', 'Machine Learning', 'Deep Learning']},\n",
    "    {'role': 'Machine Learning Engineer', 'skills': ['Python', 'TensorFlow', 'PyTorch', 'Scikit-Learn']},\n",
    "    {'role': 'Data Engineer', 'skills': ['Python', 'Apache Spark', 'Hadoop', 'SQL']},\n",
    "    {'role': 'Business Intelligence Analyst', 'skills': ['Python', 'SQL', 'Tableau', 'Power BI', 'Excel']},\n",
    "    {'role': 'Quantitative Analyst', 'skills': ['R', 'Python', 'MATLAB', 'Statistics']},\n",
    "    {'role': 'Operations Analyst', 'skills': ['Python', 'SQL', 'Data Visualization', 'Process Improvement']},\n",
    "    {'role': 'Database Administrator', 'skills': ['SQL', 'Oracle', 'MySQL', 'Database Management']},\n",
    "    {'role': 'AI Engineer', 'skills': ['Python', 'TensorFlow', 'PyTorch', 'Computer Vision']},\n",
    "    {'role': 'Statistician', 'skills': ['R', 'SAS', 'Python', 'Statistical Modeling']}\n",
    "]\n",
    "# My skills\n",
    "my_skills = ['Python', 'SQL', 'Excel']"
   ]
  },
  {
   "cell_type": "markdown",
   "metadata": {},
   "source": [
    "# Using \"for\" loop"
   ]
  },
  {
   "cell_type": "code",
   "execution_count": 2,
   "metadata": {},
   "outputs": [
    {
     "name": "stdout",
     "output_type": "stream",
     "text": [
      "Qualified for the following roles: Data Analyst, Business Intelligence Analyst\n"
     ]
    }
   ],
   "source": [
    "qualified_roles = []\n",
    "\n",
    "for job in job_roles:\n",
    "    qualified = True\n",
    "\n",
    "    for skill in my_skills:\n",
    "        if skill not in job['skills']:\n",
    "            qualified = False\n",
    "            break\n",
    "\n",
    "    if qualified:\n",
    "        qualified_roles.append(job['role'])\n",
    "    \n",
    "# Output\n",
    "if qualified_roles:\n",
    "    output_message = \"Qualified for the following roles: \" + ', '.join(qualified_roles)\n",
    "    print(output_message)\n",
    "else:\n",
    "    print('There are no matching job roles for my skills.')"
   ]
  },
  {
   "cell_type": "markdown",
   "metadata": {},
   "source": [
    "# Shorter version of the above code\n",
    "Here, we use the \"all\" and job_skills(main) in forst place and my_skills(sub) at secound.\n",
    "\n",
    "This will create a result of containing matching (sub) with some extra skills in it.\n",
    "\n",
    "i.e., result = sub + extra"
   ]
  },
  {
   "cell_type": "code",
   "execution_count": 3,
   "metadata": {},
   "outputs": [
    {
     "name": "stdout",
     "output_type": "stream",
     "text": [
      "Qualified for the following roles: Data Analyst, Business Intelligence Analyst\n"
     ]
    }
   ],
   "source": [
    "qualified_roles = []\n",
    "\n",
    "for job in job_roles:\n",
    "    if all(skill in job['skills'] for skill in my_skills):\n",
    "        qualified_roles.append(job['role'])\n",
    "\n",
    "# Output\n",
    "if qualified_roles:\n",
    "    output_message = \"Qualified for the following roles: \" + ', '.join(qualified_roles)\n",
    "    print(output_message)\n",
    "else:\n",
    "    print('There are no matching job roles for my skills.')"
   ]
  },
  {
   "cell_type": "markdown",
   "metadata": {},
   "source": [
    "Here, we use the \"all\" and job_skills(main) in second place and my_skills(sub) at first place.\n",
    "\n",
    "This will create a result of containing matching (sub) with no extra skills in it.\n",
    "\n",
    "i.e., result = sub only (No extra things)"
   ]
  },
  {
   "cell_type": "code",
   "execution_count": 4,
   "metadata": {},
   "outputs": [
    {
     "name": "stdout",
     "output_type": "stream",
     "text": [
      "Qualified for the following roles: Data Analyst\n"
     ]
    }
   ],
   "source": [
    "qualified_roles = []\n",
    "\n",
    "for job in job_roles:\n",
    "    if all(skill in my_skills for skill in job['skills']):\n",
    "        qualified_roles.append(job['role'])\n",
    "\n",
    "# Output\n",
    "if qualified_roles:\n",
    "    output_message = \"Qualified for the following roles: \" + ', '.join(qualified_roles)\n",
    "    print(output_message)\n",
    "else:\n",
    "    print('There are no matching job roles for my skills.')"
   ]
  },
  {
   "cell_type": "markdown",
   "metadata": {},
   "source": [
    "# List Comprehensions"
   ]
  },
  {
   "cell_type": "markdown",
   "metadata": {},
   "source": [
    "#### Exact Result"
   ]
  },
  {
   "cell_type": "code",
   "execution_count": 5,
   "metadata": {},
   "outputs": [
    {
     "name": "stdout",
     "output_type": "stream",
     "text": [
      "Qualified for the following roles:  Data Analyst\n"
     ]
    }
   ],
   "source": [
    "qualified_roles = [job['role'] for job in job_roles if all(skill in my_skills for skill in job['skills'])]\n",
    "\n",
    "print('Qualified for the following roles: ', ', '.join(qualified_roles))"
   ]
  },
  {
   "cell_type": "markdown",
   "metadata": {},
   "source": [
    "#### Contain Result"
   ]
  },
  {
   "cell_type": "code",
   "execution_count": 6,
   "metadata": {},
   "outputs": [
    {
     "name": "stdout",
     "output_type": "stream",
     "text": [
      "Qualified for the following roles:  Data Analyst, Business Intelligence Analyst\n"
     ]
    }
   ],
   "source": [
    "qualified_roles = [job['role'] for job in job_roles if all(skill in job['skills'] for skill in my_skills)]\n",
    "\n",
    "print('Qualified for the following roles: ', ', '.join(qualified_roles))"
   ]
  }
 ],
 "metadata": {
  "kernelspec": {
   "display_name": "python_course",
   "language": "python",
   "name": "python3"
  },
  "language_info": {
   "codemirror_mode": {
    "name": "ipython",
    "version": 3
   },
   "file_extension": ".py",
   "mimetype": "text/x-python",
   "name": "python",
   "nbconvert_exporter": "python",
   "pygments_lexer": "ipython3",
   "version": "3.11.9"
  }
 },
 "nbformat": 4,
 "nbformat_minor": 2
}
