{
 "cells": [
  {
   "cell_type": "code",
   "execution_count": 2,
   "metadata": {},
   "outputs": [
    {
     "ename": "ModuleNotFoundError",
     "evalue": "No module named 'my_module'",
     "output_type": "error",
     "traceback": [
      "\u001b[1;31m---------------------------------------------------------------------------\u001b[0m",
      "\u001b[1;31mModuleNotFoundError\u001b[0m                       Traceback (most recent call last)",
      "Cell \u001b[1;32mIn[2], line 1\u001b[0m\n\u001b[1;32m----> 1\u001b[0m \u001b[38;5;28;01mimport\u001b[39;00m \u001b[38;5;21;01mmy_module\u001b[39;00m\n",
      "\u001b[1;31mModuleNotFoundError\u001b[0m: No module named 'my_module'"
     ]
    }
   ],
   "source": [
    "import my_module"
   ]
  },
  {
   "cell_type": "code",
   "execution_count": null,
   "metadata": {},
   "outputs": [
    {
     "data": {
      "text/plain": [
       "['Python', 'SQL', 'Excel']"
      ]
     },
     "execution_count": 2,
     "metadata": {},
     "output_type": "execute_result"
    }
   ],
   "source": [
    "my_module.skill_list"
   ]
  },
  {
   "cell_type": "code",
   "execution_count": null,
   "metadata": {},
   "outputs": [
    {
     "data": {
      "text/plain": [
       "110000.00000000001"
      ]
     },
     "execution_count": 3,
     "metadata": {},
     "output_type": "execute_result"
    }
   ],
   "source": [
    "import job_analyzer\n",
    "\n",
    "job_analyzer.calculate_salary(100000)"
   ]
  },
  {
   "cell_type": "code",
   "execution_count": null,
   "metadata": {},
   "outputs": [
    {
     "data": {
      "text/plain": [
       "110000.00000000001"
      ]
     },
     "execution_count": 4,
     "metadata": {},
     "output_type": "execute_result"
    }
   ],
   "source": [
    "from job_analyzer import calculate_salary\n",
    "\n",
    "calculate_salary(100_000)"
   ]
  },
  {
   "cell_type": "code",
   "execution_count": null,
   "metadata": {},
   "outputs": [
    {
     "name": "stdout",
     "output_type": "stream",
     "text": [
      "Writing my_module2.py\n"
     ]
    }
   ],
   "source": [
    "%%writefile my_module2.py\n",
    "\n",
    "skill_list = ['Python', 'SQL', 'Excel']\n",
    "\n",
    "def skill(skill_name):\n",
    "    return f\"{skill_name} is my favorite skill!\""
   ]
  },
  {
   "cell_type": "code",
   "execution_count": null,
   "metadata": {},
   "outputs": [
    {
     "data": {
      "text/plain": [
       "['Python', 'SQL', 'Excel']"
      ]
     },
     "execution_count": 7,
     "metadata": {},
     "output_type": "execute_result"
    }
   ],
   "source": [
    "import my_module2\n",
    "\n",
    "my_module2.skill_list"
   ]
  },
  {
   "cell_type": "code",
   "execution_count": null,
   "metadata": {},
   "outputs": [
    {
     "data": {
      "text/plain": [
       "'Python is my favorite skill!'"
      ]
     },
     "execution_count": 3,
     "metadata": {},
     "output_type": "execute_result"
    }
   ],
   "source": [
    "from my_module2 import skill\n",
    "\n",
    "skill('Python')"
   ]
  },
  {
   "cell_type": "code",
   "execution_count": 3,
   "metadata": {},
   "outputs": [
    {
     "name": "stdout",
     "output_type": "stream",
     "text": [
      "110000.00000000001\n",
      "0.1\n"
     ]
    }
   ],
   "source": [
    "from job_analyzer import calculate_salary, calculate_bonus\n",
    "\n",
    "print(calculate_salary(100_000))\n",
    "\n",
    "print(calculate_bonus(110_000, 100_000))"
   ]
  },
  {
   "cell_type": "code",
   "execution_count": 4,
   "metadata": {},
   "outputs": [
    {
     "name": "stdout",
     "output_type": "stream",
     "text": [
      "110000.00000000001\n",
      "0.1\n"
     ]
    }
   ],
   "source": [
    "# Alternate\n",
    "from job_analyzer import *\n",
    "print(calculate_salary(100_000))\n",
    "\n",
    "print(calculate_bonus(110_000, 100_000))"
   ]
  },
  {
   "cell_type": "code",
   "execution_count": null,
   "metadata": {},
   "outputs": [
    {
     "name": "stdout",
     "output_type": "stream",
     "text": [
      "Writing job_analyzer.py\n"
     ]
    }
   ],
   "source": [
    "%%writefile job_analyzer.py\n",
    "\n",
    "def calculate_salary(base_salary, bonus_rate=0.10):\n",
    "    \"\"\"\n",
    "    Calculate the Total Salary based on the Base Salary and the Bonus Rate.\n",
    "\n",
    "    Args:\n",
    "        base_salary(float): The base salary.\n",
    "        bonus_rate(float): The bonus rate. Default is 0.10.\n",
    "\n",
    "    Returns:\n",
    "        float: The Total Salary\n",
    "    \"\"\"\n",
    "    return base_salary * (1 + bonus_rate)\n",
    "\n",
    "def calculate_bonus(total_salary, base_salary):\n",
    "    \"\"\"\n",
    "    Calculate the bonus Rate base on the Total Salary and the Base Salary.\n",
    "\n",
    "    Args:\n",
    "        total_salary(float): The Total Salary.\n",
    "        base_salary(float): The Base Salary.\n",
    "\n",
    "    Returns:\n",
    "        float: The Bonus Rate\n",
    "    \"\"\"\n",
    "    return (total_salary - base_salary) / base_salary"
   ]
  },
  {
   "cell_type": "code",
   "execution_count": 5,
   "metadata": {},
   "outputs": [
    {
     "name": "stdout",
     "output_type": "stream",
     "text": [
      "Help on function calculate_salary in module job_analyzer:\n",
      "\n",
      "calculate_salary(base_salary, bonus_rate=0.1)\n",
      "    Calculate the Total Salary based on the Base Salary and the Bonus Rate.\n",
      "    \n",
      "    Args:\n",
      "        base_salary(float): The base salary.\n",
      "        bonus_rate(float): The bonus rate. Default is 0.10.\n",
      "    \n",
      "    Returns:\n",
      "        float: The Total Salary\n",
      "\n"
     ]
    }
   ],
   "source": [
    "help(calculate_salary)"
   ]
  },
  {
   "cell_type": "markdown",
   "metadata": {},
   "source": [
    "# Statistics Module"
   ]
  },
  {
   "cell_type": "code",
   "execution_count": 6,
   "metadata": {},
   "outputs": [],
   "source": [
    "salary_list = [98000, 101000, 102000, 99000, 97000]"
   ]
  },
  {
   "cell_type": "code",
   "execution_count": 8,
   "metadata": {},
   "outputs": [
    {
     "data": {
      "text/plain": [
       "99400"
      ]
     },
     "execution_count": 8,
     "metadata": {},
     "output_type": "execute_result"
    }
   ],
   "source": [
    "import statistics\n",
    "\n",
    "statistics.mean(salary_list)"
   ]
  },
  {
   "cell_type": "code",
   "execution_count": 9,
   "metadata": {},
   "outputs": [
    {
     "data": {
      "text/plain": [
       "99400"
      ]
     },
     "execution_count": 9,
     "metadata": {},
     "output_type": "execute_result"
    }
   ],
   "source": [
    "from statistics import mean, median, mode\n",
    "\n",
    "mean(salary_list)"
   ]
  },
  {
   "cell_type": "code",
   "execution_count": 10,
   "metadata": {},
   "outputs": [
    {
     "data": {
      "text/plain": [
       "99000"
      ]
     },
     "execution_count": 10,
     "metadata": {},
     "output_type": "execute_result"
    }
   ],
   "source": [
    "median(salary_list)"
   ]
  },
  {
   "cell_type": "code",
   "execution_count": 11,
   "metadata": {},
   "outputs": [
    {
     "data": {
      "text/plain": [
       "98000"
      ]
     },
     "execution_count": 11,
     "metadata": {},
     "output_type": "execute_result"
    }
   ],
   "source": [
    "mode(salary_list)"
   ]
  },
  {
   "cell_type": "markdown",
   "metadata": {},
   "source": [
    "# Practise Problems"
   ]
  },
  {
   "cell_type": "code",
   "execution_count": 21,
   "metadata": {},
   "outputs": [
    {
     "name": "stdout",
     "output_type": "stream",
     "text": [
      "Writing job_filter.py\n"
     ]
    }
   ],
   "source": [
    "%%writefile job_filter.py\n",
    "\n",
    "def job_posting(Location):\n",
    "    for job in job_postings:\n",
    "        if job['location'] == Location:\n",
    "            for key, value in job.items():\n",
    "                print(job['title'])\n",
    "                break\n",
    "\n",
    "job_postings = [\n",
    "    {'title': 'Data Scientist', 'location': 'New York'},\n",
    "    {'title': 'Data Analyst', 'location': 'San Francisco'},\n",
    "    {'title': 'Machine Learning Engineer', 'location': 'New York'}\n",
    "]"
   ]
  },
  {
   "cell_type": "code",
   "execution_count": 1,
   "metadata": {},
   "outputs": [
    {
     "name": "stdout",
     "output_type": "stream",
     "text": [
      "Machine Learning Engineer\n"
     ]
    }
   ],
   "source": [
    "import job_filter\n",
    "\n",
    "job_filter.job_posting('Delhi')"
   ]
  },
  {
   "cell_type": "code",
   "execution_count": 3,
   "metadata": {},
   "outputs": [
    {
     "name": "stdout",
     "output_type": "stream",
     "text": [
      "Overwriting annual_salary.py\n"
     ]
    }
   ],
   "source": [
    "%%writefile annual_salary.py\n",
    "\n",
    "def calculate_annual_salary(Monthly_Salary):\n",
    "    return print(\"₹\", format(Monthly_Salary * 12, \",\"))"
   ]
  },
  {
   "cell_type": "code",
   "execution_count": 2,
   "metadata": {},
   "outputs": [
    {
     "name": "stdout",
     "output_type": "stream",
     "text": [
      "₹ 378,000\n"
     ]
    }
   ],
   "source": [
    "from annual_salary import calculate_annual_salary\n",
    "\n",
    "calculate_annual_salary(31500)"
   ]
  }
 ],
 "metadata": {
  "kernelspec": {
   "display_name": "python_course",
   "language": "python",
   "name": "python3"
  },
  "language_info": {
   "codemirror_mode": {
    "name": "ipython",
    "version": 3
   },
   "file_extension": ".py",
   "mimetype": "text/x-python",
   "name": "python",
   "nbconvert_exporter": "python",
   "pygments_lexer": "ipython3",
   "version": "3.11.9"
  }
 },
 "nbformat": 4,
 "nbformat_minor": 2
}
