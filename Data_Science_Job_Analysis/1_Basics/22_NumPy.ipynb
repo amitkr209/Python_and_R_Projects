{
 "cells": [
  {
   "cell_type": "code",
   "execution_count": 19,
   "metadata": {},
   "outputs": [],
   "source": [
    "# create a list of 1,000,000 salaries ranging from 50,000 and 150,000\n",
    "import random\n",
    "\n",
    "salary_list = [random.randint(50_000, 150_000) for _ in range(10_000_000)]"
   ]
  },
  {
   "cell_type": "code",
   "execution_count": 20,
   "metadata": {},
   "outputs": [],
   "source": [
    "import statistics"
   ]
  },
  {
   "cell_type": "code",
   "execution_count": 21,
   "metadata": {},
   "outputs": [
    {
     "name": "stdout",
     "output_type": "stream",
     "text": [
      "2.51 s ± 173 ms per loop (mean ± std. dev. of 7 runs, 1 loop each)\n"
     ]
    }
   ],
   "source": [
    "%%timeit\n",
    "\n",
    "# Look at the mean or average of these salaries.\n",
    "statistics.mean(salary_list)"
   ]
  },
  {
   "cell_type": "code",
   "execution_count": 22,
   "metadata": {},
   "outputs": [],
   "source": [
    "# Now we import numpy\n",
    "import numpy as np"
   ]
  },
  {
   "cell_type": "code",
   "execution_count": 23,
   "metadata": {},
   "outputs": [
    {
     "name": "stdout",
     "output_type": "stream",
     "text": [
      "411 ms ± 4.46 ms per loop (mean ± std. dev. of 7 runs, 1 loop each)\n"
     ]
    }
   ],
   "source": [
    "%%timeit\n",
    "\n",
    "# Look at the mean or average of these salaries.\n",
    "np.mean(salary_list)"
   ]
  },
  {
   "cell_type": "code",
   "execution_count": 25,
   "metadata": {},
   "outputs": [],
   "source": [
    "# Creating an aray in NumPy\n",
    "my_array = np.array([1, 2, 3, 4, 5])"
   ]
  },
  {
   "cell_type": "code",
   "execution_count": 26,
   "metadata": {},
   "outputs": [
    {
     "data": {
      "text/plain": [
       "3.0"
      ]
     },
     "execution_count": 26,
     "metadata": {},
     "output_type": "execute_result"
    }
   ],
   "source": [
    "my_array.mean()"
   ]
  },
  {
   "cell_type": "code",
   "execution_count": 27,
   "metadata": {},
   "outputs": [],
   "source": [
    "years_of_experience = np.array([1, 2, 3, 4, 5])"
   ]
  },
  {
   "cell_type": "code",
   "execution_count": 28,
   "metadata": {},
   "outputs": [
    {
     "data": {
      "text/plain": [
       "array([2, 3, 4, 5, 6])"
      ]
     },
     "execution_count": 28,
     "metadata": {},
     "output_type": "execute_result"
    }
   ],
   "source": [
    "years_of_experience_plus_one = years_of_experience + 1\n",
    "\n",
    "years_of_experience_plus_one"
   ]
  },
  {
   "cell_type": "code",
   "execution_count": 29,
   "metadata": {},
   "outputs": [
    {
     "data": {
      "text/plain": [
       "array([0, 1, 2, 3, 4])"
      ]
     },
     "execution_count": 29,
     "metadata": {},
     "output_type": "execute_result"
    }
   ],
   "source": [
    "years_of_experience_minus_one = years_of_experience - 1\n",
    "\n",
    "years_of_experience_minus_one"
   ]
  },
  {
   "cell_type": "code",
   "execution_count": 30,
   "metadata": {},
   "outputs": [
    {
     "data": {
      "text/plain": [
       "array([0.5, 1. , 1.5, 2. , 2.5])"
      ]
     },
     "execution_count": 30,
     "metadata": {},
     "output_type": "execute_result"
    }
   ],
   "source": [
    "years_of_experience_half = years_of_experience / 2\n",
    "\n",
    "years_of_experience_half"
   ]
  },
  {
   "cell_type": "code",
   "execution_count": 31,
   "metadata": {},
   "outputs": [
    {
     "data": {
      "text/plain": [
       "array([ 2,  4,  6,  8, 10])"
      ]
     },
     "execution_count": 31,
     "metadata": {},
     "output_type": "execute_result"
    }
   ],
   "source": [
    "years_of_experience_double = years_of_experience * 2\n",
    "\n",
    "years_of_experience_double"
   ]
  },
  {
   "cell_type": "code",
   "execution_count": 32,
   "metadata": {},
   "outputs": [
    {
     "data": {
      "text/plain": [
       "array([2, 3])"
      ]
     },
     "execution_count": 32,
     "metadata": {},
     "output_type": "execute_result"
    }
   ],
   "source": [
    "# Example: Selecting the experience requirement for the second and third job listings.\n",
    "second_and_third_jobs_experience = years_of_experience[1:3]\n",
    "\n",
    "second_and_third_jobs_experience"
   ]
  },
  {
   "cell_type": "code",
   "execution_count": 34,
   "metadata": {},
   "outputs": [
    {
     "data": {
      "text/plain": [
       "array([2, 3, 4, 5])"
      ]
     },
     "execution_count": 34,
     "metadata": {},
     "output_type": "execute_result"
    }
   ],
   "source": [
    "# Example: Selecting only those job listings that require more than 1 year of experience.\n",
    "jobs_with_more_than_one_year_exp = years_of_experience[years_of_experience > 1]\n",
    "\n",
    "jobs_with_more_than_one_year_exp"
   ]
  },
  {
   "cell_type": "markdown",
   "metadata": {},
   "source": [
    "#### Examples\n",
    "First lets create a list with 10 yearly salaries for a Senior Data Analyst job. We're just using a combination of the `random` library to get random integers between 100000 and 150000. Then using a for `loop` to get 10 (random) values."
   ]
  },
  {
   "cell_type": "code",
   "execution_count": 36,
   "metadata": {},
   "outputs": [
    {
     "data": {
      "text/plain": [
       "[113896,\n",
       " 130132,\n",
       " 149550,\n",
       " 112701,\n",
       " 119482,\n",
       " 111398,\n",
       " 116927,\n",
       " 112262,\n",
       " 122008,\n",
       " 146736]"
      ]
     },
     "execution_count": 36,
     "metadata": {},
     "output_type": "execute_result"
    }
   ],
   "source": [
    "import random\n",
    "salary = [random.randint(100_000, 150_000) for a in range(10)]\n",
    "\n",
    "salary"
   ]
  },
  {
   "cell_type": "code",
   "execution_count": 37,
   "metadata": {},
   "outputs": [
    {
     "data": {
      "text/plain": [
       "1235092"
      ]
     },
     "execution_count": 37,
     "metadata": {},
     "output_type": "execute_result"
    }
   ],
   "source": [
    "# Sum all salaries\n",
    "total_sum_salaries = np.sum(salary)\n",
    "\n",
    "total_sum_salaries"
   ]
  },
  {
   "cell_type": "code",
   "execution_count": 38,
   "metadata": {},
   "outputs": [
    {
     "data": {
      "text/plain": [
       "-372178944"
      ]
     },
     "execution_count": 38,
     "metadata": {},
     "output_type": "execute_result"
    }
   ],
   "source": [
    "product_salaries = np.prod(salary)\n",
    "\n",
    "product_salaries"
   ]
  },
  {
   "cell_type": "code",
   "execution_count": 39,
   "metadata": {},
   "outputs": [
    {
     "data": {
      "text/plain": [
       "array([ 113896,  244028,  393578,  506279,  625761,  737159,  854086,\n",
       "        966348, 1088356, 1235092])"
      ]
     },
     "execution_count": 39,
     "metadata": {},
     "output_type": "execute_result"
    }
   ],
   "source": [
    "cumulative_sum_salaries = np.cumsum(salary)\n",
    "\n",
    "cumulative_sum_salaries"
   ]
  },
  {
   "cell_type": "code",
   "execution_count": 40,
   "metadata": {},
   "outputs": [
    {
     "data": {
      "text/plain": [
       "array([     113896,  1936612384,  2147323328,  1259128512,  -921573504,\n",
       "        1158077696, -1178148096, -2038640128,  -258691072,  -372178944])"
      ]
     },
     "execution_count": 40,
     "metadata": {},
     "output_type": "execute_result"
    }
   ],
   "source": [
    "cumulative_prod_salaries = np.cumprod(salary)\n",
    "\n",
    "cumulative_prod_salaries"
   ]
  },
  {
   "cell_type": "code",
   "execution_count": 41,
   "metadata": {},
   "outputs": [
    {
     "data": {
      "text/plain": [
       "123509.2"
      ]
     },
     "execution_count": 41,
     "metadata": {},
     "output_type": "execute_result"
    }
   ],
   "source": [
    "average_salary = np.mean(salary)\n",
    "\n",
    "average_salary"
   ]
  },
  {
   "cell_type": "code",
   "execution_count": 42,
   "metadata": {},
   "outputs": [
    {
     "data": {
      "text/plain": [
       "118204.5"
      ]
     },
     "execution_count": 42,
     "metadata": {},
     "output_type": "execute_result"
    }
   ],
   "source": [
    "median_salary = np.median(salary)\n",
    "\n",
    "median_salary"
   ]
  },
  {
   "cell_type": "code",
   "execution_count": 43,
   "metadata": {},
   "outputs": [
    {
     "data": {
      "text/plain": [
       "200630861.73333332"
      ]
     },
     "execution_count": 43,
     "metadata": {},
     "output_type": "execute_result"
    }
   ],
   "source": [
    "salary_variance = np.var(salary, ddof=1)\n",
    "\n",
    "salary_variance"
   ]
  },
  {
   "cell_type": "code",
   "execution_count": 44,
   "metadata": {},
   "outputs": [
    {
     "data": {
      "text/plain": [
       "14164.422393212273"
      ]
     },
     "execution_count": 44,
     "metadata": {},
     "output_type": "execute_result"
    }
   ],
   "source": [
    "salary_std_dev = np.std(salary, ddof=1)\n",
    "\n",
    "salary_std_dev"
   ]
  },
  {
   "cell_type": "code",
   "execution_count": 45,
   "metadata": {},
   "outputs": [
    {
     "data": {
      "text/plain": [
       "111398"
      ]
     },
     "execution_count": 45,
     "metadata": {},
     "output_type": "execute_result"
    }
   ],
   "source": [
    "min_salary = np.min(salary)\n",
    "\n",
    "min_salary"
   ]
  },
  {
   "cell_type": "code",
   "execution_count": 46,
   "metadata": {},
   "outputs": [
    {
     "data": {
      "text/plain": [
       "149550"
      ]
     },
     "execution_count": 46,
     "metadata": {},
     "output_type": "execute_result"
    }
   ],
   "source": [
    "max_salary = np.max(salary)\n",
    "\n",
    "max_salary"
   ]
  },
  {
   "cell_type": "code",
   "execution_count": 47,
   "metadata": {},
   "outputs": [
    {
     "data": {
      "text/plain": [
       "array([123124.,     nan, 145000., 128000., 110000., 149999.,     nan,\n",
       "       135000., 115000., 140000.])"
      ]
     },
     "execution_count": 47,
     "metadata": {},
     "output_type": "execute_result"
    }
   ],
   "source": [
    "salary_with_nan = np.array([123124, np.nan, 145000, 128000, 110000, 149999, np.nan, 135000, 115000, 140000], dtype=float)\n",
    "salary_with_nan"
   ]
  },
  {
   "cell_type": "code",
   "execution_count": 49,
   "metadata": {},
   "outputs": [
    {
     "data": {
      "text/plain": [
       "array([123124.,     nan,     nan, 128000., 110000.,     nan,     nan,\n",
       "       135000., 115000.,     nan])"
      ]
     },
     "execution_count": 49,
     "metadata": {},
     "output_type": "execute_result"
    }
   ],
   "source": [
    "salary_with_nan[salary_with_nan > 135000] = np.nan\n",
    "\n",
    "salary_with_nan"
   ]
  },
  {
   "cell_type": "code",
   "execution_count": 52,
   "metadata": {},
   "outputs": [
    {
     "data": {
      "text/plain": [
       "array([113896, 130132, 149550, 112701, 119482, 111398, 116927, 112262,\n",
       "       122008, 146736])"
      ]
     },
     "execution_count": 52,
     "metadata": {},
     "output_type": "execute_result"
    }
   ],
   "source": [
    "salary_array = np.array(salary)\n",
    "\n",
    "salary_array"
   ]
  },
  {
   "cell_type": "code",
   "execution_count": 53,
   "metadata": {},
   "outputs": [
    {
     "data": {
      "text/plain": [
       "array([113896, 120000, 120000, 112701, 119482, 111398, 116927, 112262,\n",
       "       120000, 120000])"
      ]
     },
     "execution_count": 53,
     "metadata": {},
     "output_type": "execute_result"
    }
   ],
   "source": [
    "salary_array = np.where(salary_array > 120_000, 120_000, salary_array)\n",
    "\n",
    "salary_array"
   ]
  },
  {
   "cell_type": "code",
   "execution_count": 54,
   "metadata": {},
   "outputs": [
    {
     "data": {
      "text/plain": [
       "array([119916.08830604, 119750.99238071, 118340.68322065, 116108.14562993,\n",
       "       121779.57264647, 111503.00575392, 125607.48795751, 109180.51673055,\n",
       "       119375.93853933, 114953.70885784])"
      ]
     },
     "execution_count": 54,
     "metadata": {},
     "output_type": "execute_result"
    }
   ],
   "source": [
    "noise = np.random.normal(0, 5000, salary_array.size)\n",
    "\n",
    "salary_array_with_noise = salary_array + noise\n",
    "\n",
    "salary_array_with_noise"
   ]
  },
  {
   "cell_type": "code",
   "execution_count": 55,
   "metadata": {},
   "outputs": [],
   "source": [
    "import numpy as np"
   ]
  },
  {
   "cell_type": "code",
   "execution_count": 61,
   "metadata": {},
   "outputs": [],
   "source": [
    "# Job Titles\n",
    "job_titles = np.array(['Data Analyst', 'Data Engineer', 'Data Scientist', 'Machine Learning Engineer', 'AI Engineer'])\n",
    "\n",
    "# Base Salaries\n",
    "base_salaries = np.array([60000, 80000, 75000, 90000, np.nan])\n",
    "\n",
    "# Bonus Rate\n",
    "bonus_rates = np.array([0.05, 0.1, 0.08, 0.12, np.nan])"
   ]
  },
  {
   "cell_type": "code",
   "execution_count": 62,
   "metadata": {},
   "outputs": [
    {
     "data": {
      "text/plain": [
       "array([ 63000.,  88000.,  81000., 100800.,     nan])"
      ]
     },
     "execution_count": 62,
     "metadata": {},
     "output_type": "execute_result"
    }
   ],
   "source": [
    "total_salaries = base_salaries * (1 + bonus_rates)\n",
    "\n",
    "total_salaries"
   ]
  },
  {
   "cell_type": "code",
   "execution_count": 68,
   "metadata": {},
   "outputs": [
    {
     "data": {
      "text/plain": [
       "83200.0"
      ]
     },
     "execution_count": 68,
     "metadata": {},
     "output_type": "execute_result"
    }
   ],
   "source": [
    "np.nanmean(total_salaries)"
   ]
  },
  {
   "cell_type": "code",
   "execution_count": 67,
   "metadata": {},
   "outputs": [
    {
     "data": {
      "text/plain": [
       "84500.0"
      ]
     },
     "execution_count": 67,
     "metadata": {},
     "output_type": "execute_result"
    }
   ],
   "source": [
    "np.nanmedian(total_salaries)"
   ]
  },
  {
   "cell_type": "code",
   "execution_count": 65,
   "metadata": {},
   "outputs": [
    {
     "data": {
      "text/plain": [
       "nan"
      ]
     },
     "execution_count": 65,
     "metadata": {},
     "output_type": "execute_result"
    }
   ],
   "source": [
    "np.nan"
   ]
  },
  {
   "cell_type": "code",
   "execution_count": 66,
   "metadata": {},
   "outputs": [
    {
     "data": {
      "text/plain": [
       "float"
      ]
     },
     "execution_count": 66,
     "metadata": {},
     "output_type": "execute_result"
    }
   ],
   "source": [
    "type(np.nan)"
   ]
  },
  {
   "cell_type": "markdown",
   "metadata": {},
   "source": [
    "# Practise Problems"
   ]
  },
  {
   "cell_type": "code",
   "execution_count": 69,
   "metadata": {},
   "outputs": [],
   "source": [
    "# Create NumPy Array\n",
    "applications_list = [10, 15, 7, 20, 25, 30, 5]"
   ]
  },
  {
   "cell_type": "code",
   "execution_count": 71,
   "metadata": {},
   "outputs": [
    {
     "data": {
      "text/plain": [
       "array([10, 15,  7, 20, 25, 30,  5])"
      ]
     },
     "execution_count": 71,
     "metadata": {},
     "output_type": "execute_result"
    }
   ],
   "source": [
    "application_array = np.array(applications_list)\n",
    "\n",
    "application_array"
   ]
  },
  {
   "cell_type": "code",
   "execution_count": 72,
   "metadata": {},
   "outputs": [],
   "source": [
    "# Slicing Array (1.22.2)\n",
    "\n",
    "# Code Needed\n",
    "postings_list = [10, 15, 7, 20, 25, 30, 5]"
   ]
  },
  {
   "cell_type": "code",
   "execution_count": 79,
   "metadata": {},
   "outputs": [
    {
     "data": {
      "text/plain": [
       "[20, 25]"
      ]
     },
     "execution_count": 79,
     "metadata": {},
     "output_type": "execute_result"
    }
   ],
   "source": [
    "postings_list[3:5]"
   ]
  },
  {
   "cell_type": "code",
   "execution_count": 80,
   "metadata": {},
   "outputs": [],
   "source": [
    "# Highest and Lowest Salary (1.22.3)\n",
    "\n",
    "# Code Needed\n",
    "salaries_list = [70000, 85000, 60000, 95000, 80000]"
   ]
  },
  {
   "cell_type": "code",
   "execution_count": 81,
   "metadata": {},
   "outputs": [
    {
     "data": {
      "text/plain": [
       "array([70000, 85000, 60000, 95000, 80000])"
      ]
     },
     "execution_count": 81,
     "metadata": {},
     "output_type": "execute_result"
    }
   ],
   "source": [
    "salaries_array = np.array(salaries_list)\n",
    "\n",
    "salaries_array"
   ]
  },
  {
   "cell_type": "code",
   "execution_count": 82,
   "metadata": {},
   "outputs": [
    {
     "data": {
      "text/plain": [
       "60000"
      ]
     },
     "execution_count": 82,
     "metadata": {},
     "output_type": "execute_result"
    }
   ],
   "source": [
    "# Minimum salary\n",
    "min_salary = np.min(salaries_array)\n",
    "\n",
    "min_salary"
   ]
  },
  {
   "cell_type": "code",
   "execution_count": 84,
   "metadata": {},
   "outputs": [
    {
     "data": {
      "text/plain": [
       "120000"
      ]
     },
     "execution_count": 84,
     "metadata": {},
     "output_type": "execute_result"
    }
   ],
   "source": [
    "# Maximum Salary\n",
    "max_salary = np.max(salary_array)\n",
    "\n",
    "max_salary"
   ]
  },
  {
   "cell_type": "markdown",
   "metadata": {},
   "source": [
    "# AI Generated Questions"
   ]
  },
  {
   "cell_type": "code",
   "execution_count": 85,
   "metadata": {},
   "outputs": [
    {
     "data": {
      "text/plain": [
       "array([10, 20, 30, 40, 50])"
      ]
     },
     "execution_count": 85,
     "metadata": {},
     "output_type": "execute_result"
    }
   ],
   "source": [
    "# Create a NumPy array with the following numbers: 10, 20, 30, 40, 50.\n",
    "\n",
    "arr = np.array([10, 20, 30, 40, 50])\n",
    "\n",
    "arr"
   ]
  },
  {
   "cell_type": "code",
   "execution_count": 86,
   "metadata": {},
   "outputs": [
    {
     "data": {
      "text/plain": [
       "array([15, 25, 35, 45, 55])"
      ]
     },
     "execution_count": 86,
     "metadata": {},
     "output_type": "execute_result"
    }
   ],
   "source": [
    "# Add 5 to each element of the array you created in Question 1.\n",
    "\n",
    "arr_plus_5 = arr + 5\n",
    "\n",
    "arr_plus_5"
   ]
  },
  {
   "cell_type": "code",
   "execution_count": 87,
   "metadata": {},
   "outputs": [
    {
     "data": {
      "text/plain": [
       "array([10, 20, 30])"
      ]
     },
     "execution_count": 87,
     "metadata": {},
     "output_type": "execute_result"
    }
   ],
   "source": [
    "# Extract the first three elements of the array.\n",
    "\n",
    "first_three_elements = arr[:3]\n",
    "\n",
    "first_three_elements"
   ]
  },
  {
   "cell_type": "code",
   "execution_count": 89,
   "metadata": {},
   "outputs": [
    {
     "data": {
      "text/plain": [
       "70000.0"
      ]
     },
     "execution_count": 89,
     "metadata": {},
     "output_type": "execute_result"
    }
   ],
   "source": [
    "# Create an array of the salaries of five employees: 50000, 60000, 70000, 80000, 90000. \n",
    "# Then, find the average salary.\n",
    "\n",
    "salaries = np.array([50_000, 60_000, 70_000, 80_000, 90_000])\n",
    "average_salaries = np.mean(salaries)\n",
    "\n",
    "average_salaries"
   ]
  },
  {
   "cell_type": "code",
   "execution_count": 91,
   "metadata": {},
   "outputs": [
    {
     "data": {
      "text/plain": [
       "array([36,  4, 41, 66, 93])"
      ]
     },
     "execution_count": 91,
     "metadata": {},
     "output_type": "execute_result"
    }
   ],
   "source": [
    "# Generate an array of 5 random integers between 1 and 100.\n",
    "\n",
    "random_integers = np.random.randint(1, 101, 5)\n",
    "\n",
    "random_integers"
   ]
  },
  {
   "cell_type": "code",
   "execution_count": 92,
   "metadata": {},
   "outputs": [
    {
     "data": {
      "text/plain": [
       "array([ 30,  60,  90, 120, 150])"
      ]
     },
     "execution_count": 92,
     "metadata": {},
     "output_type": "execute_result"
    }
   ],
   "source": [
    "# Multiply each element in the array from Question 1 by 3.\n",
    "arr_multiply_3 = arr * 3\n",
    "\n",
    "arr_multiply_3"
   ]
  },
  {
   "cell_type": "code",
   "execution_count": 95,
   "metadata": {},
   "outputs": [
    {
     "data": {
      "text/plain": [
       "55"
      ]
     },
     "execution_count": 95,
     "metadata": {},
     "output_type": "execute_result"
    }
   ],
   "source": [
    "# Create an array with the numbers 1 to 10, then find the sum of all the elements.\n",
    "arr_1_to_10 = np.arange(1, 11)\n",
    "\n",
    "arr_sum = np.sum(arr_1_to_10)\n",
    "\n",
    "arr_sum"
   ]
  },
  {
   "cell_type": "code",
   "execution_count": 97,
   "metadata": {},
   "outputs": [
    {
     "data": {
      "text/plain": [
       "array([10, 20, 30, 30, 30])"
      ]
     },
     "execution_count": 97,
     "metadata": {},
     "output_type": "execute_result"
    }
   ],
   "source": [
    "# Replace all elements greater than 30 in the array from Question 1 with the value 30.\n",
    "arr_clipped = np.where(arr > 30, 30, arr)\n",
    "\n",
    "arr_clipped"
   ]
  },
  {
   "cell_type": "code",
   "execution_count": 99,
   "metadata": {},
   "outputs": [
    {
     "data": {
      "text/plain": [
       "14142.13562373095"
      ]
     },
     "execution_count": 99,
     "metadata": {},
     "output_type": "execute_result"
    }
   ],
   "source": [
    "# Find the standard deviation of the array you created in Question 4.\n",
    "arr_std_dev = np.std(salaries)\n",
    "\n",
    "arr_std_dev"
   ]
  },
  {
   "cell_type": "code",
   "execution_count": 100,
   "metadata": {},
   "outputs": [
    {
     "data": {
      "text/plain": [
       "array([55.60984757, 49.64888582, 39.22113859, 57.99497293, 62.93304266,\n",
       "       50.70226585, 52.00614079, 42.13099658, 50.72692493, 45.47830625])"
      ]
     },
     "execution_count": 100,
     "metadata": {},
     "output_type": "execute_result"
    }
   ],
   "source": [
    "# Create an array of 10 random numbers drawn from a normal distribution with a mean of 50 and a standard deviation of 5.\n",
    "random_normals = np.random.normal(loc=50, scale=5, size=10)\n",
    "\n",
    "random_normals"
   ]
  },
  {
   "cell_type": "code",
   "execution_count": 101,
   "metadata": {},
   "outputs": [
    {
     "data": {
      "text/plain": [
       "array([2, 3, 4, 5, 6])"
      ]
     },
     "execution_count": 101,
     "metadata": {},
     "output_type": "execute_result"
    }
   ],
   "source": [
    "# Question: Create a NumPy array representing the number of years of experience required for five different data science job listings. \n",
    "# Add 1 year to each experience requirement and display the result.\n",
    "years_of_experience = np.array([1, 2, 3, 4, 5])\n",
    "\n",
    "years_of_experience_plus_one = years_of_experience + 1\n",
    "\n",
    "years_of_experience_plus_one\n"
   ]
  },
  {
   "cell_type": "code",
   "execution_count": 102,
   "metadata": {},
   "outputs": [
    {
     "data": {
      "text/plain": [
       "array([2, 3])"
      ]
     },
     "execution_count": 102,
     "metadata": {},
     "output_type": "execute_result"
    }
   ],
   "source": [
    "# Question: Create a NumPy array representing the number of years of experience required for five different data science job listings.\n",
    "# Retrieve the experience requirements for the second and third job listings.\n",
    "import numpy as np\n",
    "\n",
    "years_of_experience = np.array([1, 2, 3, 4, 5])\n",
    "\n",
    "second_and_third_elements = years_of_experience[1:3]\n",
    "\n",
    "second_and_third_elements"
   ]
  },
  {
   "cell_type": "code",
   "execution_count": 103,
   "metadata": {},
   "outputs": [
    {
     "data": {
      "text/plain": [
       "array([3, 4, 5])"
      ]
     },
     "execution_count": 103,
     "metadata": {},
     "output_type": "execute_result"
    }
   ],
   "source": [
    "# Question: Create a NumPy array representing the number of years of experience required for five different data science job listings.\n",
    "# Retrieve only the job postings that require more than 2 years of experience.\n",
    "import numpy as np\n",
    "\n",
    "years_of_experience = np.array([1, 2, 3, 4, 5])\n",
    "\n",
    "years_of_experience_more_than_2_years = years_of_experience[years_of_experience > 2]\n",
    "\n",
    "years_of_experience_more_than_2_years"
   ]
  },
  {
   "cell_type": "code",
   "execution_count": 109,
   "metadata": {},
   "outputs": [
    {
     "data": {
      "text/plain": [
       "1188385"
      ]
     },
     "execution_count": 109,
     "metadata": {},
     "output_type": "execute_result"
    }
   ],
   "source": [
    "# Question: Create a list with 10 random yearly salaries for a Senior Data Analyst job. \n",
    "# Convert the list to a NumPy array and calculate the total sum of the elements.\n",
    "import numpy as np\n",
    "import random\n",
    "\n",
    "salary = [random.randint(100_000, 150_000) for num in range(10)]\n",
    "\n",
    "salary_array = np.array(salary)\n",
    "\n",
    "total_salary_array = np.sum(salary_array)\n",
    "total_salary_array"
   ]
  },
  {
   "cell_type": "code",
   "execution_count": 113,
   "metadata": {},
   "outputs": [
    {
     "data": {
      "text/plain": [
       "(125134.7, 122533.0, 168267439.34444445, 12971.793990980756)"
      ]
     },
     "execution_count": 113,
     "metadata": {},
     "output_type": "execute_result"
    }
   ],
   "source": [
    "# Question: Create a list with 10 random yearly salaries for a Senior Data Analyst job. \n",
    "# Convert the list to a NumPy array and calculate the mean, median, variance, and standard deviation of the salaries.\n",
    "import numpy as np\n",
    "import random\n",
    "\n",
    "# Create a list with random salaries\n",
    "salaries = [random.randint(100_000, 150_000) for num in range(10)]\n",
    "\n",
    "# Convert list to a NumPy array\n",
    "salaries_array = np.array(salaries)\n",
    "\n",
    "# Calculate mean, median, variance, and standard deviation\n",
    "mean_salary = np.mean(salaries_array)\n",
    "median_salary = np.median(salaries_array)\n",
    "salary_variance = np.var(salaries_array, ddof=1)\n",
    "salary_std_dev = np.std(salaries_array, ddof=1)\n",
    "\n",
    "mean_salary, median_salary, salary_variance, salary_std_dev"
   ]
  },
  {
   "cell_type": "code",
   "execution_count": 115,
   "metadata": {},
   "outputs": [
    {
     "data": {
      "text/plain": [
       "array([    nan,     nan, 145000.,     nan,     nan, 149999.,     nan,\n",
       "       135000.,     nan, 140000.])"
      ]
     },
     "execution_count": 115,
     "metadata": {},
     "output_type": "execute_result"
    }
   ],
   "source": [
    "# Question: Create a NumPy array representing salaries, with some values intentionally set to np.nan. \n",
    "# Replace all salaries less than 130000 with np.nan.\n",
    "\n",
    "import numpy as np\n",
    "\n",
    "# Create an array with some NaN values\n",
    "salary_with_nan = np.array([123124, np.nan, 145000, 128000, 110000, 149999, np.nan, 135000, 115000, 140000], dtype=float)\n",
    "\n",
    "# Replace values less than 130000 with np.nan\n",
    "salary_with_nan[salary_with_nan < 130_000] = np.nan\n",
    "\n",
    "salary_with_nan"
   ]
  },
  {
   "cell_type": "code",
   "execution_count": 116,
   "metadata": {},
   "outputs": [
    {
     "data": {
      "text/plain": [
       "array([117055.52700759, 126716.05843948, 136589.86138431, 146419.26452158,\n",
       "       162027.10695694])"
      ]
     },
     "execution_count": 116,
     "metadata": {},
     "output_type": "execute_result"
    }
   ],
   "source": [
    "# Question: Generate random values from a normal distribution with a mean of 0 and a standard deviation of 5000.\n",
    "# Add these values to an array of salaries to simulate salary variations.\n",
    "import numpy as np\n",
    "\n",
    "# Example salary array\n",
    "salary_array = np.array([120000, 130000, 140000, 150000, 160000])\n",
    "\n",
    "noise = np.random.normal(0, 5_000, salary_array.size)\n",
    "\n",
    "salary_array_with_noise = salary_array + noise\n",
    "\n",
    "salary_array_with_noise"
   ]
  }
 ],
 "metadata": {
  "kernelspec": {
   "display_name": "python_course",
   "language": "python",
   "name": "python3"
  },
  "language_info": {
   "codemirror_mode": {
    "name": "ipython",
    "version": 3
   },
   "file_extension": ".py",
   "mimetype": "text/x-python",
   "name": "python",
   "nbconvert_exporter": "python",
   "pygments_lexer": "ipython3",
   "version": "3.11.9"
  }
 },
 "nbformat": 4,
 "nbformat_minor": 2
}
