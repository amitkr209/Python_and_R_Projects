{
  "nbformat": 4,
  "nbformat_minor": 0,
  "metadata": {
    "colab": {
      "provenance": []
    },
    "kernelspec": {
      "name": "python3",
      "display_name": "Python 3"
    },
    "language_info": {
      "name": "python"
    }
  },
  "cells": [
    {
      "cell_type": "markdown",
      "source": [
        "Variable_name = Variable"
      ],
      "metadata": {
        "id": "BsYpxS2kqKVN"
      }
    },
    {
      "cell_type": "code",
      "source": [
        "salary = 100000"
      ],
      "metadata": {
        "id": "q2BmATCPqObB"
      },
      "execution_count": null,
      "outputs": []
    },
    {
      "cell_type": "code",
      "source": [
        "salary"
      ],
      "metadata": {
        "colab": {
          "base_uri": "https://localhost:8080/"
        },
        "id": "7uImTb0bqY8R",
        "outputId": "469dd9cd-5aa4-4e00-b04d-b9f2a48c6dca"
      },
      "execution_count": null,
      "outputs": [
        {
          "output_type": "execute_result",
          "data": {
            "text/plain": [
              "100000"
            ]
          },
          "metadata": {},
          "execution_count": 5
        }
      ]
    },
    {
      "cell_type": "code",
      "source": [
        "\"salary\""
      ],
      "metadata": {
        "colab": {
          "base_uri": "https://localhost:8080/",
          "height": 35
        },
        "id": "vQ1jY0p0qtm0",
        "outputId": "9d20a181-a4e5-4d44-c5f9-899d5c5deaee"
      },
      "execution_count": null,
      "outputs": [
        {
          "output_type": "execute_result",
          "data": {
            "text/plain": [
              "'salary'"
            ],
            "application/vnd.google.colaboratory.intrinsic+json": {
              "type": "string"
            }
          },
          "metadata": {},
          "execution_count": 6
        }
      ]
    },
    {
      "cell_type": "markdown",
      "source": [
        "Tatal salary = (Base Salary) * (1 + Bonus Rate)"
      ],
      "metadata": {
        "id": "MKdy0W7eq5JU"
      }
    },
    {
      "cell_type": "code",
      "source": [
        "base_salary = 100000\n",
        "bonus_rate = .10"
      ],
      "metadata": {
        "id": "sa-h99LHrLcO"
      },
      "execution_count": null,
      "outputs": []
    },
    {
      "cell_type": "code",
      "source": [
        "total_salary = base_salary * (1 + bonus_rate)"
      ],
      "metadata": {
        "id": "v8SrW04qrcGs"
      },
      "execution_count": null,
      "outputs": []
    },
    {
      "cell_type": "code",
      "source": [
        "total_salary"
      ],
      "metadata": {
        "colab": {
          "base_uri": "https://localhost:8080/"
        },
        "id": "Re394tK3svLo",
        "outputId": "9dac0931-10c9-442d-eb65-38a126703456"
      },
      "execution_count": null,
      "outputs": [
        {
          "output_type": "execute_result",
          "data": {
            "text/plain": [
              "110000.00000000001"
            ]
          },
          "metadata": {},
          "execution_count": 12
        }
      ]
    },
    {
      "cell_type": "code",
      "source": [
        "job_id = 101"
      ],
      "metadata": {
        "id": "OS8cMPaNs8KH"
      },
      "execution_count": null,
      "outputs": []
    },
    {
      "cell_type": "code",
      "source": [
        "job_id"
      ],
      "metadata": {
        "colab": {
          "base_uri": "https://localhost:8080/"
        },
        "id": "Z6ZbOmeatX9u",
        "outputId": "811c4975-f717-45bd-bc23-166ab3d4b13b"
      },
      "execution_count": null,
      "outputs": [
        {
          "output_type": "execute_result",
          "data": {
            "text/plain": [
              "101"
            ]
          },
          "metadata": {},
          "execution_count": 14
        }
      ]
    },
    {
      "cell_type": "code",
      "source": [
        "company_name = \"DataWiz Inc.\""
      ],
      "metadata": {
        "id": "rEHR3m3EtZbp"
      },
      "execution_count": null,
      "outputs": []
    },
    {
      "cell_type": "code",
      "source": [
        "company_name"
      ],
      "metadata": {
        "colab": {
          "base_uri": "https://localhost:8080/",
          "height": 35
        },
        "id": "PXq0BO-CtjOc",
        "outputId": "487d7702-9f99-4dc8-e51e-9378f3d8b8eb"
      },
      "execution_count": null,
      "outputs": [
        {
          "output_type": "execute_result",
          "data": {
            "text/plain": [
              "'DataWiz Inc.'"
            ],
            "application/vnd.google.colaboratory.intrinsic+json": {
              "type": "string"
            }
          },
          "metadata": {},
          "execution_count": 16
        }
      ]
    },
    {
      "cell_type": "code",
      "source": [
        "job_wfh = True"
      ],
      "metadata": {
        "id": "yyQ5b_5ZtlBf"
      },
      "execution_count": null,
      "outputs": []
    },
    {
      "cell_type": "code",
      "source": [
        "job_wfh"
      ],
      "metadata": {
        "colab": {
          "base_uri": "https://localhost:8080/"
        },
        "id": "1IApvYHytzap",
        "outputId": "00e47754-d6de-49b9-c74a-f25d61e586bd"
      },
      "execution_count": null,
      "outputs": [
        {
          "output_type": "execute_result",
          "data": {
            "text/plain": [
              "True"
            ]
          },
          "metadata": {},
          "execution_count": 18
        }
      ]
    },
    {
      "cell_type": "code",
      "source": [
        "job_id = 101\n",
        "job_title = \"Data Analyst\"\n",
        "job_salary = 125000"
      ],
      "metadata": {
        "id": "VlXh7846t1-r"
      },
      "execution_count": null,
      "outputs": []
    },
    {
      "cell_type": "code",
      "source": [
        "print(job_id)\n",
        "job_salary"
      ],
      "metadata": {
        "colab": {
          "base_uri": "https://localhost:8080/"
        },
        "id": "J0pPtQiIub6e",
        "outputId": "8d1ec46b-41cb-4be3-9362-6572c438adea"
      },
      "execution_count": null,
      "outputs": [
        {
          "output_type": "stream",
          "name": "stdout",
          "text": [
            "101\n"
          ]
        },
        {
          "output_type": "execute_result",
          "data": {
            "text/plain": [
              "125000"
            ]
          },
          "metadata": {},
          "execution_count": 21
        }
      ]
    },
    {
      "cell_type": "code",
      "source": [
        "print(\"Data Job Description\")\n",
        "print(\"********************\")\n",
        "print(\"Job ID       : \", job_id)\n",
        "print(\"Company Name : \", company_name)\n",
        "print(\"Job Title    : \", job_title)\n",
        "print(\"Salary       : \", job_salary)\n",
        "print(\"WFH          : \", job_wfh)"
      ],
      "metadata": {
        "colab": {
          "base_uri": "https://localhost:8080/"
        },
        "id": "_vTdVKFBups9",
        "outputId": "4ca5fd38-e1e1-48f7-e798-b2051e3b1e0f"
      },
      "execution_count": null,
      "outputs": [
        {
          "output_type": "stream",
          "name": "stdout",
          "text": [
            "Data Job Description\n",
            "********************\n",
            "Job ID       :  101\n",
            "Company Name :  DataWiz Inc.\n",
            "Job Title    :  Data Analyst\n",
            "Salary       :  125000\n",
            "WFH          :  True\n"
          ]
        }
      ]
    },
    {
      "cell_type": "code",
      "source": [],
      "metadata": {
        "id": "Oim2r2sUwCtG"
      },
      "execution_count": null,
      "outputs": []
    }
  ]
}