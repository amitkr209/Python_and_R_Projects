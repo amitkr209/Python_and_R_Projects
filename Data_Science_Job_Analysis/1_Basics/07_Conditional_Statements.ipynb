{
 "cells": [
  {
   "cell_type": "code",
   "execution_count": 1,
   "metadata": {},
   "outputs": [
    {
     "name": "stdout",
     "output_type": "stream",
     "text": [
      "What's up Data Nerds!\n"
     ]
    }
   ],
   "source": [
    "if True:\n",
    "    print(\"What's up Data Nerds!\")"
   ]
  },
  {
   "cell_type": "code",
   "execution_count": 2,
   "metadata": {},
   "outputs": [],
   "source": [
    "if False:\n",
    "    print(\"What's up Data Nerds!\")"
   ]
  },
  {
   "cell_type": "code",
   "execution_count": 6,
   "metadata": {},
   "outputs": [
    {
     "ename": "IndentationError",
     "evalue": "expected an indented block after 'if' statement on line 1 (685757537.py, line 2)",
     "output_type": "error",
     "traceback": [
      "\u001b[1;36m  Cell \u001b[1;32mIn[6], line 2\u001b[1;36m\u001b[0m\n\u001b[1;33m    print(\"What's up Data Nerds!\")\u001b[0m\n\u001b[1;37m    ^\u001b[0m\n\u001b[1;31mIndentationError\u001b[0m\u001b[1;31m:\u001b[0m expected an indented block after 'if' statement on line 1\n"
     ]
    }
   ],
   "source": [
    "if True:\n",
    "print(\"What's up Data Nerds!\")"
   ]
  },
  {
   "cell_type": "code",
   "execution_count": 7,
   "metadata": {},
   "outputs": [],
   "source": [
    "# Skill required for job posting\n",
    "job_skill = 'SQL'\n",
    "\n",
    "# Applicant skill\n",
    "applicant_skill = 'SQL'"
   ]
  },
  {
   "cell_type": "code",
   "execution_count": 8,
   "metadata": {},
   "outputs": [
    {
     "name": "stdout",
     "output_type": "stream",
     "text": [
      "Skill Match\n"
     ]
    }
   ],
   "source": [
    "if job_skill == applicant_skill:\n",
    "    print(\"Skill Match\")"
   ]
  },
  {
   "cell_type": "code",
   "execution_count": 10,
   "metadata": {},
   "outputs": [
    {
     "name": "stdout",
     "output_type": "stream",
     "text": [
      "Enough experience; No SQL\n"
     ]
    }
   ],
   "source": [
    "# Skill required for job posting\n",
    "job_skill = 'SQL'\n",
    "\n",
    "# Applicant skill\n",
    "applicant_skill = 'Python'\n",
    "\n",
    "# Years of Experience\n",
    "years_experience = 6\n",
    "\n",
    "if job_skill == applicant_skill:\n",
    "    print(\"Skill Match\")\n",
    "elif years_experience >= 5:\n",
    "    print(\"Enough experience; No SQL\")"
   ]
  },
  {
   "cell_type": "code",
   "execution_count": 14,
   "metadata": {},
   "outputs": [
    {
     "name": "stdout",
     "output_type": "stream",
     "text": [
      "This applicant should know SQL.\n"
     ]
    }
   ],
   "source": [
    "# Skill required for job posting\n",
    "job_skill = 'SQL'\n",
    "\n",
    "# Applicant skill\n",
    "applicant_skill = 'Python'\n",
    "\n",
    "# Years of Experience\n",
    "years_experience = 3\n",
    "\n",
    "if job_skill == applicant_skill:\n",
    "    print(\"Skill Match\")\n",
    "elif years_experience >= 5:\n",
    "    print(\"Enough experience; No SQL\")\n",
    "elif applicant_skill == 'Python':\n",
    "    print(\"This applicant should know SQL.\")\n",
    "else:\n",
    "    print(\"No Skill or Experience match\")"
   ]
  },
  {
   "cell_type": "code",
   "execution_count": 15,
   "metadata": {},
   "outputs": [],
   "source": [
    "if job_skill == applicant_skill:\n",
    "    pass"
   ]
  },
  {
   "cell_type": "code",
   "execution_count": 16,
   "metadata": {},
   "outputs": [],
   "source": [
    "if job_skill == applicant_skill:\n",
    "    ..."
   ]
  },
  {
   "cell_type": "markdown",
   "metadata": {},
   "source": [
    "# AI Generated Question"
   ]
  },
  {
   "cell_type": "code",
   "execution_count": 17,
   "metadata": {},
   "outputs": [
    {
     "name": "stdout",
     "output_type": "stream",
     "text": [
      "This number is positive.\n"
     ]
    }
   ],
   "source": [
    "# Write a Python program that checks if a number is positive, negative, or zero and prints an appropriate message.\n",
    "\n",
    "number = 5\n",
    "if number > 0:\n",
    "    print(\"This number is positive.\")\n",
    "elif number < 0:\n",
    "    print(\"This number is negative.\")\n",
    "else:\n",
    "    print(\"This number is 0\")"
   ]
  },
  {
   "cell_type": "code",
   "execution_count": 19,
   "metadata": {},
   "outputs": [
    {
     "name": "stdout",
     "output_type": "stream",
     "text": [
      "You are eligible to vote.\n"
     ]
    }
   ],
   "source": [
    "# Write a Python program to check if a person is eligible to vote. A person must be 18 years or older to vote.\n",
    "\n",
    "age = 25\n",
    "\n",
    "if age >= 18:\n",
    "    print(\"You are eligible to vote.\")\n",
    "else:\n",
    "    print(\" You are not eligible to vote.\")"
   ]
  },
  {
   "cell_type": "code",
   "execution_count": 23,
   "metadata": {},
   "outputs": [
    {
     "name": "stdout",
     "output_type": "stream",
     "text": [
      "The grade is C.\n"
     ]
    }
   ],
   "source": [
    "# Write a Python program that assigns a grade to a student based on their score.\n",
    "\n",
    "score = 74 # Replace with any score\n",
    "\n",
    "if score >= 90:\n",
    "    grade = 'A'\n",
    "elif score >= 80:\n",
    "    grade = 'B'\n",
    "elif score >= 70:\n",
    "    grade = 'C'\n",
    "elif score >= 60:\n",
    "    grade = 'D'\n",
    "elif score >= 50:\n",
    "    grade = 'E'\n",
    "else:\n",
    "    grade = 'Fail'\n",
    "print(f\"The grade is {grade}.\")"
   ]
  },
  {
   "cell_type": "code",
   "execution_count": 27,
   "metadata": {},
   "outputs": [
    {
     "name": "stdout",
     "output_type": "stream",
     "text": [
      "The largest number id 20.\n"
     ]
    }
   ],
   "source": [
    "#  Write a Python program to find the largest of three numbers using nested if statements.\n",
    "\n",
    "num1 = 10\n",
    "num2 = 20\n",
    "num3 = 15\n",
    "\n",
    "if num1 >= num2:\n",
    "    if num1 >= num3:\n",
    "        largest = num1\n",
    "    else:\n",
    "        largest = num3\n",
    "else:\n",
    "    if num2 >= num3:\n",
    "        largest = num2\n",
    "    else:\n",
    "        largest = num3\n",
    "print(f\"The largest number id {largest}.\")"
   ]
  },
  {
   "cell_type": "code",
   "execution_count": 33,
   "metadata": {},
   "outputs": [
    {
     "name": "stdout",
     "output_type": "stream",
     "text": [
      "2024 is a leap year.\n"
     ]
    }
   ],
   "source": [
    "# Write a Python program that checks if a given year is a leap year.\n",
    "year = 2024\n",
    "\n",
    "if (year % 400 == 0) or (year % 4 == 0 and year % 100 != 0):\n",
    "    print(f\"{year} is a leap year.\")\n",
    "else:\n",
    "    print(f\"{year} is not a leap year.\")"
   ]
  }
 ],
 "metadata": {
  "kernelspec": {
   "display_name": "python_course",
   "language": "python",
   "name": "python3"
  },
  "language_info": {
   "codemirror_mode": {
    "name": "ipython",
    "version": 3
   },
   "file_extension": ".py",
   "mimetype": "text/x-python",
   "name": "python",
   "nbconvert_exporter": "python",
   "pygments_lexer": "ipython3",
   "version": "3.11.9"
  }
 },
 "nbformat": 4,
 "nbformat_minor": 2
}
