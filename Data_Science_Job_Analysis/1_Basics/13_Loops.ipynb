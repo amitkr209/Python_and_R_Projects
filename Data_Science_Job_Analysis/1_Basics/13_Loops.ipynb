{
 "cells": [
  {
   "cell_type": "markdown",
   "metadata": {},
   "source": [
    "# For Loops"
   ]
  },
  {
   "cell_type": "code",
   "execution_count": 13,
   "metadata": {},
   "outputs": [
    {
     "name": "stdout",
     "output_type": "stream",
     "text": [
      "0\n",
      "1\n",
      "2\n",
      "3\n",
      "4\n",
      "5\n"
     ]
    }
   ],
   "source": [
    "numbers = [0, 1, 2, 3, 4, 5]\n",
    "\n",
    "for number in numbers:\n",
    "    print(number)"
   ]
  },
  {
   "cell_type": "code",
   "execution_count": 14,
   "metadata": {},
   "outputs": [
    {
     "name": "stdout",
     "output_type": "stream",
     "text": [
      "P\n",
      "Y\n",
      "T\n",
      "H\n",
      "O\n",
      "N\n"
     ]
    }
   ],
   "source": [
    "characters = \"PYTHON\"\n",
    "\n",
    "for character in characters:\n",
    "    print(character)"
   ]
  },
  {
   "cell_type": "code",
   "execution_count": 15,
   "metadata": {},
   "outputs": [],
   "source": [
    "years_experience = {\n",
    "    'Luke' : 3,\n",
    "    'Kelly' : 6,\n",
    "    'Ken' : 4,\n",
    "    'Alex' : 3\n",
    "}"
   ]
  },
  {
   "cell_type": "code",
   "execution_count": 22,
   "metadata": {},
   "outputs": [
    {
     "name": "stdout",
     "output_type": "stream",
     "text": [
      "Luke\n",
      "Kelly\n",
      "Ken\n",
      "Alex\n"
     ]
    }
   ],
   "source": [
    "for person in years_experience:\n",
    "    print(person) # This will only extract only thw Keys."
   ]
  },
  {
   "cell_type": "code",
   "execution_count": 23,
   "metadata": {},
   "outputs": [
    {
     "name": "stdout",
     "output_type": "stream",
     "text": [
      "3\n",
      "6\n",
      "4\n",
      "3\n"
     ]
    }
   ],
   "source": [
    "for person in years_experience.values():\n",
    "    print(person) # -> This will onlt extract the values of the dictionary."
   ]
  },
  {
   "cell_type": "code",
   "execution_count": 25,
   "metadata": {},
   "outputs": [
    {
     "name": "stdout",
     "output_type": "stream",
     "text": [
      "('Luke', 3)\n",
      "('Kelly', 6)\n",
      "('Ken', 4)\n",
      "('Alex', 3)\n"
     ]
    }
   ],
   "source": [
    "for person in years_experience.items():\n",
    "    print(person) # -> This will extract the both keys and values of the dictionary."
   ]
  },
  {
   "cell_type": "code",
   "execution_count": 26,
   "metadata": {},
   "outputs": [
    {
     "name": "stdout",
     "output_type": "stream",
     "text": [
      "Luke 3\n",
      "Kelly 6\n",
      "Ken 4\n",
      "Alex 3\n"
     ]
    }
   ],
   "source": [
    "for key, value in years_experience.items():\n",
    "    print(key, value)"
   ]
  },
  {
   "cell_type": "code",
   "execution_count": 32,
   "metadata": {},
   "outputs": [
    {
     "name": "stdout",
     "output_type": "stream",
     "text": [
      "Kelly has 6 years of experience.\n",
      "Ken has 4 years of experience.\n"
     ]
    }
   ],
   "source": [
    "# Applicant with more than 5 years of experience\n",
    "\n",
    "for key, value in years_experience.items():\n",
    "    if value > 3:\n",
    "        print(f'{key} has {value} years of experience.')"
   ]
  },
  {
   "cell_type": "code",
   "execution_count": 33,
   "metadata": {},
   "outputs": [
    {
     "name": "stdout",
     "output_type": "stream",
     "text": [
      "0\n",
      "1\n",
      "2\n",
      "3\n",
      "4\n",
      "5\n",
      "6\n",
      "7\n",
      "8\n",
      "9\n"
     ]
    }
   ],
   "source": [
    "for num in range(10):\n",
    "    print(num)"
   ]
  },
  {
   "cell_type": "markdown",
   "metadata": {},
   "source": [
    "# While Loops"
   ]
  },
  {
   "cell_type": "code",
   "execution_count": 35,
   "metadata": {},
   "outputs": [],
   "source": [
    "while False:\n",
    "    print('gungun')"
   ]
  },
  {
   "cell_type": "code",
   "execution_count": 38,
   "metadata": {},
   "outputs": [
    {
     "name": "stdout",
     "output_type": "stream",
     "text": [
      "0\n",
      "1\n",
      "2\n",
      "3\n",
      "4\n",
      "5\n"
     ]
    }
   ],
   "source": [
    "count = 0\n",
    "\n",
    "while count <= 5:\n",
    "    print(count)\n",
    "    count += 1"
   ]
  },
  {
   "cell_type": "code",
   "execution_count": 42,
   "metadata": {},
   "outputs": [],
   "source": [
    "years_experience = {\n",
    "    'Luke' : 3,\n",
    "    'Kelly' : 6,\n",
    "    'Ken' : 4,\n",
    "    'Alex' : 3,\n",
    "    'Mary' : 7\n",
    "}"
   ]
  },
  {
   "cell_type": "code",
   "execution_count": 50,
   "metadata": {},
   "outputs": [
    {
     "name": "stdout",
     "output_type": "stream",
     "text": [
      "Kelly 6\n"
     ]
    }
   ],
   "source": [
    "years = 0\n",
    "index = 0\n",
    "\n",
    "years_list = list(years_experience.items())\n",
    "while years < 5:\n",
    "    keys, years = years_list[index]\n",
    "    if years >= 5:\n",
    "        print(keys, years)\n",
    "    index += 1\n"
   ]
  },
  {
   "cell_type": "markdown",
   "metadata": {},
   "source": [
    "# AI Generated Questions"
   ]
  },
  {
   "cell_type": "code",
   "execution_count": 51,
   "metadata": {},
   "outputs": [
    {
     "name": "stdout",
     "output_type": "stream",
     "text": [
      "1\n",
      "2\n",
      "3\n",
      "4\n",
      "5\n",
      "6\n",
      "7\n",
      "8\n",
      "9\n",
      "10\n"
     ]
    }
   ],
   "source": [
    "# Question: Write a while loop that prints numbers from 1 to 10.\n",
    "num = 1\n",
    "while num <= 10:\n",
    "    print(num)\n",
    "    num += 1"
   ]
  },
  {
   "cell_type": "code",
   "execution_count": 52,
   "metadata": {},
   "outputs": [
    {
     "name": "stdout",
     "output_type": "stream",
     "text": [
      "1 is odd number.\n",
      "2 is even number.\n",
      "3 is odd number.\n",
      "4 is even number.\n",
      "5 is odd number.\n",
      "6 is even number.\n",
      "7 is odd number.\n",
      "8 is even number.\n",
      "9 is odd number.\n",
      "10 is even number.\n"
     ]
    }
   ],
   "source": [
    "# Question: Write a while loop that prints \"Even\" for even numbers and \"Odd\" for odd numbers from 1 to 10.\n",
    "num = 1\n",
    "while num <= 10:\n",
    "    if num % 2 == 0:\n",
    "        print(f\"{num} is even number.\")\n",
    "    else:\n",
    "        print(f\"{num} is odd number.\")\n",
    "    num += 1"
   ]
  },
  {
   "cell_type": "code",
   "execution_count": 53,
   "metadata": {},
   "outputs": [
    {
     "name": "stdout",
     "output_type": "stream",
     "text": [
      "apple\n",
      "banana\n",
      "cherry\n"
     ]
    }
   ],
   "source": [
    "# Question: Write a for loop that iterates over a list of fruits and prints each fruit.\n",
    "fruits = [\"apple\", \"banana\", \"cherry\"]\n",
    "\n",
    "for fruit in fruits:\n",
    "    print(fruit)"
   ]
  },
  {
   "cell_type": "code",
   "execution_count": 55,
   "metadata": {},
   "outputs": [
    {
     "name": "stdout",
     "output_type": "stream",
     "text": [
      "Index 0: Red\n",
      "Index 1: Green\n",
      "Index 2: Blue\n"
     ]
    }
   ],
   "source": [
    "# Question: Write a for loop that prints the index and value of each item in a list of colors\n",
    "colors = [\"Red\", \"Green\", \"Blue\"]\n",
    "\n",
    "for index, color in enumerate(colors):\n",
    "    print(F\"Index {index}: {color}\")"
   ]
  },
  {
   "cell_type": "code",
   "execution_count": 57,
   "metadata": {},
   "outputs": [
    {
     "name": "stdout",
     "output_type": "stream",
     "text": [
      "1 * 1 = 1\n",
      "1 * 2 = 2\n",
      "1 * 3 = 3\n",
      "2 * 1 = 2\n",
      "2 * 2 = 4\n",
      "2 * 3 = 6\n",
      "3 * 1 = 3\n",
      "3 * 2 = 6\n",
      "3 * 3 = 9\n"
     ]
    }
   ],
   "source": [
    "# Question: Write nested for loops to print a multiplication table for numbers 1 to 3.\n",
    "for i in range(1, 4):\n",
    "    for j in range(1, 4):\n",
    "        print(f\"{i} * {j} = {i * j}\")"
   ]
  },
  {
   "cell_type": "code",
   "execution_count": 62,
   "metadata": {},
   "outputs": [
    {
     "name": "stdout",
     "output_type": "stream",
     "text": [
      "1\n",
      "2\n",
      "3\n",
      "4\n",
      "5\n",
      "6\n",
      "7\n",
      "8\n"
     ]
    }
   ],
   "source": [
    "# Question: Write a for loop that iterates over a list of numbers and stops if it encounters the number 5.\n",
    "\n",
    "for num in range(1, 11):\n",
    "   if num == 5:\n",
    "      break\n",
    "   print(num)"
   ]
  },
  {
   "cell_type": "code",
   "execution_count": 63,
   "metadata": {},
   "outputs": [
    {
     "name": "stdout",
     "output_type": "stream",
     "text": [
      "1\n",
      "2\n",
      "3\n",
      "4\n",
      "6\n",
      "7\n",
      "8\n",
      "9\n",
      "10\n"
     ]
    }
   ],
   "source": [
    "# Question: Write a for loop that iterates over a list of numbers and skips the number 5.\n",
    "\n",
    "for num in range (1, 11):\n",
    "    if num == 5:\n",
    "        continue\n",
    "    print(num)"
   ]
  },
  {
   "cell_type": "code",
   "execution_count": 64,
   "metadata": {},
   "outputs": [
    {
     "name": "stdout",
     "output_type": "stream",
     "text": [
      "5\n",
      "6\n",
      "7\n",
      "8\n",
      "9\n",
      "10\n",
      "11\n",
      "12\n",
      "13\n",
      "14\n",
      "15\n"
     ]
    }
   ],
   "source": [
    "# Question: Write a for loop using the range function to print numbers from 5 to 15.\n",
    "\n",
    "for num in range(5, 16):\n",
    "    print(num)"
   ]
  },
  {
   "cell_type": "code",
   "execution_count": 65,
   "metadata": {},
   "outputs": [
    {
     "name": "stdout",
     "output_type": "stream",
     "text": [
      "2\n",
      "4\n",
      "6\n",
      "8\n",
      "10\n",
      "12\n",
      "14\n",
      "16\n",
      "18\n",
      "20\n"
     ]
    }
   ],
   "source": [
    "# Question: Write a for loop to print all the even numbers between 1 and 20.\n",
    "\n",
    "for num in range (1, 21):\n",
    "    if num % 2 == 0:\n",
    "        print(num)"
   ]
  },
  {
   "cell_type": "code",
   "execution_count": 68,
   "metadata": {},
   "outputs": [
    {
     "name": "stdout",
     "output_type": "stream",
     "text": [
      "*\n",
      "**\n",
      "***\n",
      "****\n",
      "*****\n"
     ]
    }
   ],
   "source": [
    "# Question: Write nested for loops to print the following pattern:\n",
    "\n",
    "for i in range(1, 6):\n",
    "    for j in range(i):\n",
    "        print('*', end='')\n",
    "    print()"
   ]
  },
  {
   "cell_type": "code",
   "execution_count": 70,
   "metadata": {},
   "outputs": [
    {
     "name": "stdout",
     "output_type": "stream",
     "text": [
      "1\n",
      "2\n",
      "3\n",
      "4\n",
      "5\n"
     ]
    }
   ],
   "source": [
    "# Question: Write a while loop that prints numbers from 1 to 5.\n",
    "num = 1\n",
    "while num <= 5:\n",
    "    print(num)\n",
    "    num += 1"
   ]
  },
  {
   "cell_type": "code",
   "execution_count": 71,
   "metadata": {},
   "outputs": [
    {
     "name": "stdout",
     "output_type": "stream",
     "text": [
      "1\n",
      "2\n",
      "3\n",
      "4\n",
      "5\n"
     ]
    }
   ],
   "source": [
    "# Question: Write a for loop that iterates over the list [1, 2, 3, 4, 5] and prints each number.\n",
    "numbers = [1, 2, 3, 4, 5]\n",
    "\n",
    "for number in numbers:\n",
    "    print(number)"
   ]
  },
  {
   "cell_type": "code",
   "execution_count": 72,
   "metadata": {},
   "outputs": [
    {
     "name": "stdout",
     "output_type": "stream",
     "text": [
      "Qualiied\n",
      "Not Qualified\n",
      "Qualiied\n"
     ]
    }
   ],
   "source": [
    "# Question: Write a while loop that checks if the user is qualified for each job based on their years of experience.\n",
    "user_years_of_experience = 2\n",
    "total_positions = 3\n",
    "position_index = 0\n",
    "position_experience_requirements = [1, 3, 2]\n",
    "\n",
    "while position_index < total_positions :\n",
    "    required_years = position_experience_requirements[position_index]\n",
    "    if user_years_of_experience >= required_years:\n",
    "        print('Qualiied')\n",
    "    else:\n",
    "        print('Not Qualified')\n",
    "    position_index += 1"
   ]
  },
  {
   "cell_type": "code",
   "execution_count": 73,
   "metadata": {},
   "outputs": [
    {
     "name": "stdout",
     "output_type": "stream",
     "text": [
      "Qualified\n",
      "Not Qualified\n",
      "Qualified\n"
     ]
    }
   ],
   "source": [
    "# Question: Write a for loop that checks if the user is qualified for each job based on their years of experience.\n",
    "\n",
    "user_years_of_experience = 2\n",
    "position_experience_requirements = [1, 3, 2]\n",
    "\n",
    "for required_years in position_experience_requirements:\n",
    "    if user_years_of_experience >= required_years:\n",
    "        print('Qualified')\n",
    "    else:\n",
    "        print('Not Qualified')"
   ]
  },
  {
   "cell_type": "code",
   "execution_count": 76,
   "metadata": {},
   "outputs": [
    {
     "name": "stdout",
     "output_type": "stream",
     "text": [
      "Postion 1 requires 1 years of experience.\n",
      "Postion 2 requires 3 years of experience.\n",
      "Postion 3 requires 2 years of experience.\n"
     ]
    }
   ],
   "source": [
    "# Question: Use enumerate in a for loop to print the position index and the years of experience required for each job.\n",
    "position_experience_requirements = [1, 3, 2]\n",
    "\n",
    "for index, years in enumerate(position_experience_requirements, start=1):\n",
    "    print(f\"Postion {index} requires {years} years of experience.\")"
   ]
  },
  {
   "cell_type": "code",
   "execution_count": 78,
   "metadata": {},
   "outputs": [
    {
     "name": "stdout",
     "output_type": "stream",
     "text": [
      "1\n",
      "2\n",
      "3\n",
      "4\n",
      "5\n"
     ]
    }
   ],
   "source": [
    "# Question: Write a for loop using range to print numbers from 1 to 5.\n",
    "for x in range(1, 6):\n",
    "    print(x)"
   ]
  },
  {
   "cell_type": "code",
   "execution_count": 81,
   "metadata": {},
   "outputs": [
    {
     "name": "stdout",
     "output_type": "stream",
     "text": [
      "Data Scientist\n",
      "-  Python\n",
      "-  SQL\n",
      "-  Machine Learning\n",
      "Machine Learning Engineer\n",
      "-  Python\n",
      "-  SQL\n",
      "-  Machine Learning\n"
     ]
    }
   ],
   "source": [
    "# Question: Write nested loops to print required skills for each job role.\n",
    "roles = ['Data Scientist', 'Machine Learning Engineer']\n",
    "skills = ['Python', 'SQL', 'Machine Learning']\n",
    "\n",
    "for role in roles:\n",
    "    print(role)\n",
    "    for skill in skills:\n",
    "        print('- ', skill)"
   ]
  },
  {
   "cell_type": "code",
   "execution_count": 82,
   "metadata": {},
   "outputs": [
    {
     "name": "stdout",
     "output_type": "stream",
     "text": [
      "Hello, Amit!\n",
      "Hello, Amit!\n",
      "Hello, Amit!\n"
     ]
    }
   ],
   "source": [
    "# Question: Write a while loop that prints \"Hello, World!\" 3 times.\n",
    "count = 0\n",
    "while count < 3:\n",
    "    print(\"Hello, Amit!\")\n",
    "    count += 1"
   ]
  },
  {
   "cell_type": "code",
   "execution_count": 88,
   "metadata": {},
   "outputs": [
    {
     "name": "stdout",
     "output_type": "stream",
     "text": [
      "Red : Circle\n",
      "Red : Square\n",
      "Green : Circle\n",
      "Green : Square\n"
     ]
    }
   ],
   "source": [
    "# Question: Write a nested for loop that prints each combination of colors = ['red', 'green'] and shapes = ['circle', 'square'].\n",
    "colors = ['Red', 'Green']\n",
    "shapes = ['Circle', 'Square']\n",
    "\n",
    "for color in colors:\n",
    "    for shape in shapes:\n",
    "        print(f\"{color} : {shape}\")"
   ]
  },
  {
   "cell_type": "code",
   "execution_count": 91,
   "metadata": {},
   "outputs": [
    {
     "name": "stdout",
     "output_type": "stream",
     "text": [
      "120\n"
     ]
    }
   ],
   "source": [
    "# Question: Write a while loop that calculates the factorial of 5.\n",
    "num = 5\n",
    "fact = 1\n",
    "while num > 0:\n",
    "    fact *= num\n",
    "    num -= 1\n",
    "print(fact)"
   ]
  },
  {
   "cell_type": "code",
   "execution_count": 94,
   "metadata": {},
   "outputs": [
    {
     "name": "stdout",
     "output_type": "stream",
     "text": [
      "15\n"
     ]
    }
   ],
   "source": [
    "# Write a for loop that calculates the sum of the elements in the list numbers = [1, 2, 3, 4, 5].\n",
    "numbers = [1, 2, 3, 4, 5]\n",
    "total = 0\n",
    "\n",
    "for number in numbers:\n",
    "    total += number\n",
    "print(total)"
   ]
  },
  {
   "cell_type": "markdown",
   "metadata": {},
   "source": [
    "# Practise Question"
   ]
  },
  {
   "cell_type": "code",
   "execution_count": 96,
   "metadata": {},
   "outputs": [
    {
     "name": "stdout",
     "output_type": "stream",
     "text": [
      "Data Scientist\n",
      "Data Analyst\n",
      "Machine Learning Engineer\n"
     ]
    }
   ],
   "source": [
    "# Print Job Titles\n",
    "job_titles = ['Data Scientist', 'Data Analyst', 'Machine Learning Engineer']\n",
    "\n",
    "for titles in job_titles:\n",
    "    print(titles)"
   ]
  },
  {
   "cell_type": "code",
   "execution_count": 98,
   "metadata": {},
   "outputs": [
    {
     "name": "stdout",
     "output_type": "stream",
     "text": [
      "75\n"
     ]
    }
   ],
   "source": [
    "# Total Job Postings (1.13.2)\n",
    "job_postings = [5, 10, 15, 20, 25]\n",
    "total_jobs_posting = 0\n",
    "\n",
    "for jobs in job_postings:\n",
    "    total_jobs_posting += jobs\n",
    "print(total_jobs_posting)"
   ]
  },
  {
   "cell_type": "code",
   "execution_count": 100,
   "metadata": {},
   "outputs": [
    {
     "name": "stdout",
     "output_type": "stream",
     "text": [
      "Job Title 1 : Data Scientist\n",
      "Job Title 2 : Data Analyst\n",
      "Job Title 3 : Machine Learning Engineer\n"
     ]
    }
   ],
   "source": [
    "# Print Job Titles with Index\n",
    "job_titles = ['Data Scientist', 'Data Analyst', 'Machine Learning Engineer']\n",
    "\n",
    "for index, job_title in enumerate(job_titles, start=1):\n",
    "    print(f\"Job Title {index} : {job_title}\")"
   ]
  },
  {
   "cell_type": "code",
   "execution_count": 104,
   "metadata": {},
   "outputs": [
    {
     "name": "stdout",
     "output_type": "stream",
     "text": [
      "Machine Learning Engineer\n"
     ]
    }
   ],
   "source": [
    "# Find First Engineer\n",
    "job_titles = ['Data Scientist', 'Data Analyst', 'Machine Learning Engineer', 'Software Engineer']\n",
    "\n",
    "for job_title in job_titles:\n",
    "    if \"Engineer\" in job_title:\n",
    "        print(job_title)\n",
    "        break"
   ]
  },
  {
   "cell_type": "code",
   "execution_count": 105,
   "metadata": {},
   "outputs": [
    {
     "name": "stdout",
     "output_type": "stream",
     "text": [
      "Data Scientist\n",
      "Data Analyst\n"
     ]
    }
   ],
   "source": [
    "# Print Job Titles Containing 'Data'.\n",
    "positions_skills = {\n",
    "    'Data Scientist': ['Python', 'R'],\n",
    "    'Data Analyst': ['SQL', 'Excel'],\n",
    "    'Machine Learning Engineer': ['Python', 'TensorFlow']\n",
    "}\n",
    "\n",
    "for job_titles in positions_skills.keys():\n",
    "    if 'Data' in job_titles:\n",
    "        print(job_titles)"
   ]
  }
 ],
 "metadata": {
  "kernelspec": {
   "display_name": "python_course",
   "language": "python",
   "name": "python3"
  },
  "language_info": {
   "codemirror_mode": {
    "name": "ipython",
    "version": 3
   },
   "file_extension": ".py",
   "mimetype": "text/x-python",
   "name": "python",
   "nbconvert_exporter": "python",
   "pygments_lexer": "ipython3",
   "version": "3.11.9"
  }
 },
 "nbformat": 4,
 "nbformat_minor": 2
}
