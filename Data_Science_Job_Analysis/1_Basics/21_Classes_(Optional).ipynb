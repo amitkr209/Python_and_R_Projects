{
 "cells": [
  {
   "cell_type": "code",
   "execution_count": 51,
   "metadata": {},
   "outputs": [],
   "source": [
    "class BaseSalary:\n",
    "    def __init__(self, base_salary, bonus_rate=0.1, symbol=\"$\"):\n",
    "        self.base_salary = base_salary\n",
    "        self.bonus_rate = bonus_rate\n",
    "        self.symbol = symbol\n",
    "        self.total_salary = base_salary * (1 + bonus_rate)\n",
    "        self.bonus = (self.total_salary - self.base_salary)\n",
    "\n",
    "    def __repr__(self):\n",
    "        return f'{self.symbol}{self.base_salary:,.0f}'\n",
    "    \n",
    "    def show_salary(self):\n",
    "        return f'{self.symbol}{self.total_salary:,.0f}'\n",
    "    \n",
    "    def show_bonus(self):\n",
    "        return f'{self.bonus:,.0f}'"
   ]
  },
  {
   "cell_type": "code",
   "execution_count": 52,
   "metadata": {},
   "outputs": [
    {
     "data": {
      "text/plain": [
       "'$'"
      ]
     },
     "execution_count": 52,
     "metadata": {},
     "output_type": "execute_result"
    }
   ],
   "source": [
    "salary = BaseSalary(100000)\n",
    "\n",
    "salary.symbol"
   ]
  },
  {
   "cell_type": "code",
   "execution_count": 53,
   "metadata": {},
   "outputs": [
    {
     "data": {
      "text/plain": [
       "$100,000"
      ]
     },
     "execution_count": 53,
     "metadata": {},
     "output_type": "execute_result"
    }
   ],
   "source": [
    "salary"
   ]
  },
  {
   "cell_type": "code",
   "execution_count": 55,
   "metadata": {},
   "outputs": [
    {
     "data": {
      "text/plain": [
       "'$110,000'"
      ]
     },
     "execution_count": 55,
     "metadata": {},
     "output_type": "execute_result"
    }
   ],
   "source": [
    "salary.show_salary()"
   ]
  },
  {
   "cell_type": "code",
   "execution_count": 56,
   "metadata": {},
   "outputs": [
    {
     "data": {
      "text/plain": [
       "'10,000'"
      ]
     },
     "execution_count": 56,
     "metadata": {},
     "output_type": "execute_result"
    }
   ],
   "source": [
    "salary.show_bonus()"
   ]
  },
  {
   "cell_type": "code",
   "execution_count": 72,
   "metadata": {},
   "outputs": [],
   "source": [
    "class DataScienceJobsList:\n",
    "    def __init__(self, jobs):\n",
    "        self.jobs = jobs\n",
    "\n",
    "    def __str__(self):\n",
    "        jobs_str = 'Data Science Jobs: \\n'\n",
    "        for job in self.jobs:\n",
    "            jobs_str += f\"- {job['job_title']}: {job['job_skills']}\\n\"\n",
    "        return jobs_str\n",
    "    \n",
    "    def split_skills(self):\n",
    "        for job in self.jobs:\n",
    "            job['jon_skills'] = job['job_skills'].split(', ')"
   ]
  },
  {
   "cell_type": "code",
   "execution_count": 70,
   "metadata": {},
   "outputs": [],
   "source": [
    "data_science_jobs = [\n",
    "    {'job_title': 'Data Scientist', 'job_skills': \"Python, SQL, Machine Learning\"},\n",
    "    {'job_title': 'Data Analyst', 'job_skills': \"SQL, Excel, Python\"},\n",
    "    {'job_title': 'Machine Learning Engineer', 'job_skills': \"Python, TensorFlow, Keras\"}\n",
    "]"
   ]
  },
  {
   "cell_type": "code",
   "execution_count": 71,
   "metadata": {},
   "outputs": [
    {
     "name": "stdout",
     "output_type": "stream",
     "text": [
      "Data Science Jobs: \n",
      "- Data Scientist: Python, SQL, Machine Learning\n",
      "- Data Analyst: SQL, Excel, Python\n",
      "- Machine Learning Engineer: Python, TensorFlow, Keras\n",
      "\n"
     ]
    }
   ],
   "source": [
    "jobs_list = DataScienceJobsList(data_science_jobs)\n",
    "print(jobs_list)"
   ]
  },
  {
   "cell_type": "code",
   "execution_count": 74,
   "metadata": {},
   "outputs": [
    {
     "name": "stdout",
     "output_type": "stream",
     "text": [
      "Data Science Jobs: \n",
      "- Data Scientist: Python, SQL, Machine Learning\n",
      "- Data Analyst: SQL, Excel, Python\n",
      "- Machine Learning Engineer: Python, TensorFlow, Keras\n",
      "\n"
     ]
    }
   ],
   "source": [
    "jobs_list = DataScienceJobsList(data_science_jobs)\n",
    "jobs_list.split_skills()\n",
    "print(jobs_list)"
   ]
  },
  {
   "cell_type": "markdown",
   "metadata": {},
   "source": [
    "## AI Generated Questions"
   ]
  },
  {
   "cell_type": "markdown",
   "metadata": {},
   "source": [
    "**Question:** Create a class named `Student` that initializes with a student's name, age, and grades (as a list). Implement methods to calculate the average grade, display student details, and show the grades."
   ]
  },
  {
   "cell_type": "code",
   "execution_count": 16,
   "metadata": {},
   "outputs": [],
   "source": [
    "class Student:\n",
    "    def __init__(self, name, age, grades):\n",
    "        self.name = name\n",
    "        self.age = age\n",
    "        self.grades = grades\n",
    "\n",
    "    def average_grade(self):\n",
    "        return sum(self.grades) / len(self.grades)\n",
    "    \n",
    "    def student_details(self):\n",
    "        return f\"Student Name: {self.name}; Age: {self.age}\"\n",
    "    \n",
    "    def show_grades(self):\n",
    "        return f\"Grades: {self.grades}\""
   ]
  },
  {
   "cell_type": "code",
   "execution_count": 19,
   "metadata": {},
   "outputs": [],
   "source": [
    "# Example usage\n",
    "student = Student(\"Alice\", 20, [85, 90, 78, 92])"
   ]
  },
  {
   "cell_type": "code",
   "execution_count": 20,
   "metadata": {},
   "outputs": [
    {
     "data": {
      "text/plain": [
       "'Student Name: Alice; Age: 20'"
      ]
     },
     "execution_count": 20,
     "metadata": {},
     "output_type": "execute_result"
    }
   ],
   "source": [
    "student.student_details()"
   ]
  },
  {
   "cell_type": "code",
   "execution_count": 22,
   "metadata": {},
   "outputs": [
    {
     "name": "stdout",
     "output_type": "stream",
     "text": [
      "Average Grade: 86.25\n"
     ]
    }
   ],
   "source": [
    "print(f\"Average Grade: {student.average_grade()}\")"
   ]
  },
  {
   "cell_type": "code",
   "execution_count": 11,
   "metadata": {},
   "outputs": [
    {
     "data": {
      "text/plain": [
       "'Grades: [85, 90, 78, 92]'"
      ]
     },
     "execution_count": 11,
     "metadata": {},
     "output_type": "execute_result"
    }
   ],
   "source": [
    "student.show_grades()"
   ]
  },
  {
   "cell_type": "markdown",
   "metadata": {},
   "source": [
    "**Question**: Create a class named `Product` that initializes with a product's name, price, and quantity. Implement methods to calculate the total cost (price * quantity), display product details, and apply a discount to the price."
   ]
  },
  {
   "cell_type": "code",
   "execution_count": 64,
   "metadata": {},
   "outputs": [],
   "source": [
    "class Product:\n",
    "    def __init__(self, name, price, quantity):\n",
    "        self.name = name\n",
    "        self.price = price\n",
    "        self.quantity = quantity\n",
    "\n",
    "    def total_price(self):\n",
    "        return f\"${self.price * self.quantity}\"\n",
    "    \n",
    "    def product_display(self):\n",
    "        return f\"Product Name: {self.name}; Price: ${self.price: .2f}; Quantity: {self.quantity}\"\n",
    "    \n",
    "    def apply_discount(self, discount_rate):\n",
    "        self.price *= (1 - discount_rate)"
   ]
  },
  {
   "cell_type": "code",
   "execution_count": 65,
   "metadata": {},
   "outputs": [],
   "source": [
    "# Example usage\n",
    "product = Product(\"Laptop\", 1500, 3)"
   ]
  },
  {
   "cell_type": "code",
   "execution_count": 72,
   "metadata": {},
   "outputs": [
    {
     "name": "stdout",
     "output_type": "stream",
     "text": [
      "Product Name: Laptop; Price: $ 1215.00; Quantity: 3\n",
      "Total Cost: $3645.0\n",
      "Price after discount: 1093.5\n"
     ]
    }
   ],
   "source": [
    "print(product.product_display())\n",
    "print(f'Total Cost: {product.total_price()}')\n",
    "product.apply_discount(0.1)\n",
    "print(f'Price after discount: {product.price}')"
   ]
  },
  {
   "cell_type": "code",
   "execution_count": 73,
   "metadata": {},
   "outputs": [
    {
     "data": {
      "text/plain": [
       "'Product Name: Laptop; Price: $ 1093.50; Quantity: 3'"
      ]
     },
     "execution_count": 73,
     "metadata": {},
     "output_type": "execute_result"
    }
   ],
   "source": [
    "product.product_display()"
   ]
  },
  {
   "cell_type": "code",
   "execution_count": 74,
   "metadata": {},
   "outputs": [],
   "source": [
    "product.apply_discount(0.1)"
   ]
  },
  {
   "cell_type": "markdown",
   "metadata": {},
   "source": [
    "**Question**: Create a class named `Book` that initializes with a book's title, author, and number of pages. Implement methods to display book details, check if the book is a novel (more than 100 pages), and show a summary."
   ]
  },
  {
   "cell_type": "code",
   "execution_count": 75,
   "metadata": {},
   "outputs": [],
   "source": [
    "class Book:\n",
    "    def __init__(self, title, author, pages):\n",
    "        self.title = title\n",
    "        self.author = author\n",
    "        self.pages = pages\n",
    "\n",
    "    def book_details(self):\n",
    "        return f\"Book Title: {self.title}; Author: {self.author}; Pages: {self.pages}\"\n",
    "    \n",
    "    def is_novel(self):\n",
    "        return self.pages > 100\n",
    "        \n",
    "    def summary(self):\n",
    "        return f\"{self.title} by {self.author}.\""
   ]
  },
  {
   "cell_type": "code",
   "execution_count": 76,
   "metadata": {},
   "outputs": [],
   "source": [
    "# Example Usage\n",
    "book = Book(\"1984\", \"George Orwell\", 328)"
   ]
  },
  {
   "cell_type": "code",
   "execution_count": 77,
   "metadata": {},
   "outputs": [
    {
     "data": {
      "text/plain": [
       "'George Orwell'"
      ]
     },
     "execution_count": 77,
     "metadata": {},
     "output_type": "execute_result"
    }
   ],
   "source": [
    "book.author"
   ]
  },
  {
   "cell_type": "code",
   "execution_count": 78,
   "metadata": {},
   "outputs": [
    {
     "data": {
      "text/plain": [
       "'1984 by George Orwell.'"
      ]
     },
     "execution_count": 78,
     "metadata": {},
     "output_type": "execute_result"
    }
   ],
   "source": [
    "book.summary()"
   ]
  },
  {
   "cell_type": "code",
   "execution_count": 80,
   "metadata": {},
   "outputs": [
    {
     "data": {
      "text/plain": [
       "True"
      ]
     },
     "execution_count": 80,
     "metadata": {},
     "output_type": "execute_result"
    }
   ],
   "source": [
    "book.is_novel()"
   ]
  },
  {
   "cell_type": "code",
   "execution_count": 81,
   "metadata": {},
   "outputs": [
    {
     "data": {
      "text/plain": [
       "'Book Title: 1984; Author: George Orwell; Pages: 328'"
      ]
     },
     "execution_count": 81,
     "metadata": {},
     "output_type": "execute_result"
    }
   ],
   "source": [
    "book.book_details()"
   ]
  },
  {
   "cell_type": "markdown",
   "metadata": {},
   "source": [
    "**Question**: Create a class named Car that initializes with a car's make, model, and year. Implement methods to display car details, calculate the car's age, and check if the car is antique (older than 25 years)."
   ]
  },
  {
   "cell_type": "code",
   "execution_count": 114,
   "metadata": {},
   "outputs": [],
   "source": [
    "class Car:\n",
    "    def __init__(self, make, model, year):\n",
    "        self.make = make\n",
    "        self.model = model\n",
    "        self.year = year\n",
    "\n",
    "    def car_details(self):\n",
    "        return f\"Car Make: {self.make}; Model: {self.model}; Year: {self.year}\"\n",
    "    \n",
    "    def calculate_age(self, current_year):\n",
    "        return current_year - self.year\n",
    "    \n",
    "    def is_antique(self, current_year):\n",
    "        return self.calculate_age(current_year) > 25"
   ]
  },
  {
   "cell_type": "code",
   "execution_count": 115,
   "metadata": {},
   "outputs": [],
   "source": [
    "# Example Usage\n",
    "car = Car('Ford', 'Mustang', 1967)"
   ]
  },
  {
   "cell_type": "code",
   "execution_count": 116,
   "metadata": {},
   "outputs": [
    {
     "data": {
      "text/plain": [
       "'Ford'"
      ]
     },
     "execution_count": 116,
     "metadata": {},
     "output_type": "execute_result"
    }
   ],
   "source": [
    "car.make"
   ]
  },
  {
   "cell_type": "code",
   "execution_count": 117,
   "metadata": {},
   "outputs": [
    {
     "data": {
      "text/plain": [
       "'Car Make: Ford; Model: Mustang; Year: 1967'"
      ]
     },
     "execution_count": 117,
     "metadata": {},
     "output_type": "execute_result"
    }
   ],
   "source": [
    "car.car_details()"
   ]
  },
  {
   "cell_type": "code",
   "execution_count": 118,
   "metadata": {},
   "outputs": [
    {
     "data": {
      "text/plain": [
       "57"
      ]
     },
     "execution_count": 118,
     "metadata": {},
     "output_type": "execute_result"
    }
   ],
   "source": [
    "car.calculate_age(2024)"
   ]
  },
  {
   "cell_type": "code",
   "execution_count": 120,
   "metadata": {},
   "outputs": [
    {
     "data": {
      "text/plain": [
       "True"
      ]
     },
     "execution_count": 120,
     "metadata": {},
     "output_type": "execute_result"
    }
   ],
   "source": [
    "car.is_antique(2024)"
   ]
  },
  {
   "cell_type": "markdown",
   "metadata": {},
   "source": [
    "**Question**: Create a class named `LukesList` that mimics a simple list. Implement methods to add items, retrieve items by index, set items by index, and return a string representation of the list."
   ]
  },
  {
   "cell_type": "code",
   "execution_count": 126,
   "metadata": {},
   "outputs": [],
   "source": [
    "class LukesList:\n",
    "    def __init__(self):\n",
    "        self._items = []\n",
    "\n",
    "    def add(self, item):\n",
    "        self._items.append(item)\n",
    "\n",
    "    def __getitem__(self, index):\n",
    "        return self._items[index]\n",
    "    \n",
    "    def __setitem__(self, index, value):\n",
    "        self._items[index] = value\n",
    "\n",
    "    def __repr__(self):\n",
    "        return str(self._items)\n",
    "    \n",
    "    def __len__(self):\n",
    "        return len(self._items)"
   ]
  },
  {
   "cell_type": "code",
   "execution_count": 128,
   "metadata": {},
   "outputs": [],
   "source": [
    "# Example usage\n",
    "my_list = LukesList()"
   ]
  },
  {
   "cell_type": "code",
   "execution_count": 129,
   "metadata": {},
   "outputs": [],
   "source": [
    "my_list.add(\"Data Nerd\")"
   ]
  },
  {
   "cell_type": "code",
   "execution_count": 131,
   "metadata": {},
   "outputs": [],
   "source": [
    "my_list.add(\"Finance Nerd\")"
   ]
  },
  {
   "cell_type": "code",
   "execution_count": 132,
   "metadata": {},
   "outputs": [
    {
     "name": "stdout",
     "output_type": "stream",
     "text": [
      "['Data Nerd', 'Finance Nerd']\n"
     ]
    }
   ],
   "source": [
    "print(my_list)"
   ]
  },
  {
   "cell_type": "code",
   "execution_count": 134,
   "metadata": {},
   "outputs": [
    {
     "data": {
      "text/plain": [
       "'Finance Nerd'"
      ]
     },
     "execution_count": 134,
     "metadata": {},
     "output_type": "execute_result"
    }
   ],
   "source": [
    "my_list[1]"
   ]
  },
  {
   "cell_type": "code",
   "execution_count": 135,
   "metadata": {},
   "outputs": [
    {
     "data": {
      "text/plain": [
       "2"
      ]
     },
     "execution_count": 135,
     "metadata": {},
     "output_type": "execute_result"
    }
   ],
   "source": [
    "len(my_list)"
   ]
  },
  {
   "cell_type": "markdown",
   "metadata": {},
   "source": [
    "**Question**: Add a method to the `LukesList` class to remove an item by value. If the item is not found, the method should print a message."
   ]
  },
  {
   "cell_type": "code",
   "execution_count": 136,
   "metadata": {},
   "outputs": [],
   "source": [
    "class LukesList:\n",
    "    def __init__(self):\n",
    "        self._items = []\n",
    "\n",
    "    def add(self, item):\n",
    "        self._items.append(item)\n",
    "\n",
    "    def __getitem__(self, index):\n",
    "        return self._items[index]\n",
    "    \n",
    "    def __setitem__(self, index, value):\n",
    "        self._items[index] = value\n",
    "\n",
    "    def __repr__(self):\n",
    "        return str(self._items)\n",
    "    \n",
    "    def __len__(self):\n",
    "        return len(self._items)\n",
    "    \n",
    "    def remove(self, item):\n",
    "        if item in self._items:\n",
    "            self._items.remove(item)\n",
    "        else:\n",
    "            print(\"Item not found\")"
   ]
  },
  {
   "cell_type": "code",
   "execution_count": 137,
   "metadata": {},
   "outputs": [
    {
     "name": "stdout",
     "output_type": "stream",
     "text": [
      "['Data Nerd', 'Finance Nerd']\n"
     ]
    }
   ],
   "source": [
    "# Example usage\n",
    "my_list = LukesList()\n",
    "my_list.add(\"Data Nerd\")\n",
    "my_list.add(\"Finance Nerd\")\n",
    "print(my_list)"
   ]
  },
  {
   "cell_type": "code",
   "execution_count": 138,
   "metadata": {},
   "outputs": [
    {
     "data": {
      "text/plain": [
       "['Finance Nerd']"
      ]
     },
     "execution_count": 138,
     "metadata": {},
     "output_type": "execute_result"
    }
   ],
   "source": [
    "my_list.remove(\"Data Nerd\")\n",
    "my_list"
   ]
  },
  {
   "cell_type": "code",
   "execution_count": 139,
   "metadata": {},
   "outputs": [
    {
     "name": "stdout",
     "output_type": "stream",
     "text": [
      "Item not found\n"
     ]
    }
   ],
   "source": [
    "my_list.remove(\"Tech Nerd\")"
   ]
  },
  {
   "cell_type": "markdown",
   "metadata": {},
   "source": [
    "**Question**: Create a class named `BaseSalary` to calculate total salary and bonus. Include methods to display the formatted salary and bonus."
   ]
  },
  {
   "cell_type": "code",
   "execution_count": 143,
   "metadata": {},
   "outputs": [],
   "source": [
    "class BaseSalary:\n",
    "    def __init__(self, base_salary, bonus_rate=0.1, symbol='₹'):\n",
    "        self.base_salary = base_salary\n",
    "        self.bonus_rate = bonus_rate\n",
    "        self.symbol = symbol\n",
    "        self.total_salary = base_salary * (1 + bonus_rate)\n",
    "        self.bonus = self.total_salary - self.base_salary\n",
    "\n",
    "    def __repr__(self):\n",
    "        return f\"{self.symbol}{self.base_salary: ,.0f}\"\n",
    "    \n",
    "    def show_total_salary(self):\n",
    "        return f\"{self.symbol}{self.total_salary: ,.2f}\"\n",
    "    \n",
    "    def show_bonus(self):\n",
    "        return f\"{self.symbol}{self.bonus: ,.0f}\""
   ]
  },
  {
   "cell_type": "code",
   "execution_count": 144,
   "metadata": {},
   "outputs": [],
   "source": [
    "# Example Usage\n",
    "salary = BaseSalary(100000)"
   ]
  },
  {
   "cell_type": "code",
   "execution_count": 145,
   "metadata": {},
   "outputs": [
    {
     "data": {
      "text/plain": [
       "₹ 100,000"
      ]
     },
     "execution_count": 145,
     "metadata": {},
     "output_type": "execute_result"
    }
   ],
   "source": [
    "salary"
   ]
  },
  {
   "cell_type": "code",
   "execution_count": 146,
   "metadata": {},
   "outputs": [
    {
     "data": {
      "text/plain": [
       "'₹ 10,000'"
      ]
     },
     "execution_count": 146,
     "metadata": {},
     "output_type": "execute_result"
    }
   ],
   "source": [
    "salary.show_bonus()"
   ]
  },
  {
   "cell_type": "code",
   "execution_count": 147,
   "metadata": {},
   "outputs": [
    {
     "data": {
      "text/plain": [
       "'₹ 110,000.00'"
      ]
     },
     "execution_count": 147,
     "metadata": {},
     "output_type": "execute_result"
    }
   ],
   "source": [
    "salary.show_total_salary()"
   ]
  }
 ],
 "metadata": {
  "kernelspec": {
   "display_name": "python_course",
   "language": "python",
   "name": "python3"
  },
  "language_info": {
   "codemirror_mode": {
    "name": "ipython",
    "version": 3
   },
   "file_extension": ".py",
   "mimetype": "text/x-python",
   "name": "python",
   "nbconvert_exporter": "python",
   "pygments_lexer": "ipython3",
   "version": "3.11.9"
  }
 },
 "nbformat": 4,
 "nbformat_minor": 2
}
